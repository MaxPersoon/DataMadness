{
 "cells": [
  {
   "cell_type": "markdown",
   "source": [
    "### Index\n",
    "\n",
    "1. Data scraping and cleanup\n",
    "2. Q1: Can we find interesting patterns in Tweets contained in our dataset related to the anti-vaccination discourse?\n",
    "3. Q2: What are the common characteristics of the users involved in these Tweets?\n",
    "4. Q3: Based on the Tweets, how did this movement evolve over time and across geographical locations?\n",
    "4.1 Time analysis\n",
    "4.1.1 Overall breakdown\n",
    "4.1.2 Per-hashtag breakdown\n",
    "4.2 Location analysis\n",
    "5. Ethical analysis"
   ],
   "metadata": {
    "collapsed": false,
    "pycharm": {
     "name": "#%% md\n"
    }
   }
  },
  {
   "cell_type": "markdown",
   "source": [
    "### 1. Data scraping and cleanup\n",
    "The data was collected by running the included 'scrape.py' file. What follows now is the cleanup process:"
   ],
   "metadata": {
    "collapsed": false,
    "pycharm": {
     "name": "#%% md\n"
    }
   }
  },
  {
   "cell_type": "code",
   "execution_count": 1,
   "outputs": [
    {
     "data": {
      "text/plain": "                               _type  \\\n0     snscrape.modules.twitter.Tweet   \n1     snscrape.modules.twitter.Tweet   \n2     snscrape.modules.twitter.Tweet   \n3     snscrape.modules.twitter.Tweet   \n4     snscrape.modules.twitter.Tweet   \n...                              ...   \n4732  snscrape.modules.twitter.Tweet   \n4733  snscrape.modules.twitter.Tweet   \n4734  snscrape.modules.twitter.Tweet   \n4735  snscrape.modules.twitter.Tweet   \n4736  snscrape.modules.twitter.Tweet   \n\n                                                    url  \\\n0     https://twitter.com/KreugerDunning/status/1495...   \n1     https://twitter.com/FarmSailing/status/1495474...   \n2     https://twitter.com/FeelingSoGr8t/status/14953...   \n3     https://twitter.com/InalaBrisbane/status/14953...   \n4     https://twitter.com/teakalmia/status/149515056...   \n...                                                 ...   \n4732  https://twitter.com/ItCouldAlwaysB1/status/144...   \n4733  https://twitter.com/theallinoneteam/status/137...   \n4734  https://twitter.com/SundayEwolabi/status/13327...   \n4735  https://twitter.com/GorwayGlobal/status/133203...   \n4736  https://twitter.com/SundayEwolabi/status/12947...   \n\n                          date  \\\n0    2022-02-20 23:55:25+00:00   \n1    2022-02-20 19:05:23+00:00   \n2    2022-02-20 13:24:35+00:00   \n3    2022-02-20 12:00:05+00:00   \n4    2022-02-19 21:37:26+00:00   \n...                        ...   \n4732 2021-10-12 16:00:29+00:00   \n4733 2021-04-04 21:33:10+00:00   \n4734 2020-11-28 19:24:17+00:00   \n4735 2020-11-26 18:56:26+00:00   \n4736 2020-08-15 22:07:40+00:00   \n\n                                                content  \\\n0     @nilikm LOOOL sais the weirdo with a mask in h...   \n1     “Israel had been a early trailblazer of a nati...   \n2            https://t.co/Qei7wpaNj9  \\n\\n#vaccineskill   \n3     Terrific interview by @mariaaazeee with @DowdE...   \n4     #TruckersForFreedom2022  #VaccinesKill https:/...   \n...                                                 ...   \n4732  VAIDS = Vaccine Acquired Immune Deficiency Syn...   \n4733  Maybe a new illness will be created? VAIDS!  V...   \n4734  @richy_os @Johannxs @HMKemiAdeosun The selfish...   \n4735  What if India's Drug regulator, @CDSCO_INDIA_I...   \n4736  @yinkanubi This tweet is loaded with a lot of ...   \n\n                                        renderedContent                   id  \\\n0     @nilikm LOOOL sais the weirdo with a mask in h...  1495547672547278856   \n1     “Israel had been a early trailblazer of a nati...  1495474680924418052   \n2      instagram.com/tv/CaH0tj8Adta…  \\n\\n#vaccineskill  1495388918694428674   \n3     Terrific interview by @mariaaazeee with @DowdE...  1495367652478369793   \n4     #TruckersForFreedom2022  #VaccinesKill twitter...  1495150560504430600   \n...                                                 ...                  ...   \n4732  VAIDS = Vaccine Acquired Immune Deficiency Syn...  1447955338460745733   \n4733  Maybe a new illness will be created? VAIDS!  V...  1378822981112229889   \n4734  @richy_os @Johannxs @HMKemiAdeosun The selfish...  1332767287154241542   \n4735  What if India's Drug regulator, @CDSCO_INDIA_I...  1332035503072419843   \n4736  @yinkanubi This tweet is loaded with a lot of ...  1294757678598815744   \n\n                                                   user  replyCount  \\\n0     {'_type': 'snscrape.modules.twitter.User', 'us...           0   \n1     {'_type': 'snscrape.modules.twitter.User', 'us...           0   \n2     {'_type': 'snscrape.modules.twitter.User', 'us...           0   \n3     {'_type': 'snscrape.modules.twitter.User', 'us...           1   \n4     {'_type': 'snscrape.modules.twitter.User', 'us...           0   \n...                                                 ...         ...   \n4732  {'_type': 'snscrape.modules.twitter.User', 'us...           0   \n4733  {'_type': 'snscrape.modules.twitter.User', 'us...           0   \n4734  {'_type': 'snscrape.modules.twitter.User', 'us...           1   \n4735  {'_type': 'snscrape.modules.twitter.User', 'us...           1   \n4736  {'_type': 'snscrape.modules.twitter.User', 'us...           0   \n\n      retweetCount  likeCount  ...  media  retweetedTweet  \\\n0                0          0  ...   None             NaN   \n1               16         15  ...   None             NaN   \n2                0          0  ...   None             NaN   \n3                1          7  ...   None             NaN   \n4                0          0  ...   None             NaN   \n...            ...        ...  ...    ...             ...   \n4732             1          3  ...   None             NaN   \n4733             0          0  ...   None             NaN   \n4734             0          3  ...   None             NaN   \n4735             0          1  ...   None             NaN   \n4736             0          1  ...   None             NaN   \n\n                                            quotedTweet inReplyToTweetId  \\\n0                                                  None     1.495477e+18   \n1                                                  None              NaN   \n2                                                  None              NaN   \n3                                                  None              NaN   \n4     {'_type': 'snscrape.modules.twitter.Tweet', 'u...              NaN   \n...                                                 ...              ...   \n4732                                               None              NaN   \n4733                                               None              NaN   \n4734                                               None     1.332700e+18   \n4735  {'_type': 'snscrape.modules.twitter.Tweet', 'u...              NaN   \n4736                                               None     1.294558e+18   \n\n                                          inReplyToUser  \\\n0     {'_type': 'snscrape.modules.twitter.User', 'us...   \n1                                                  None   \n2                                                  None   \n3                                                  None   \n4                                                  None   \n...                                                 ...   \n4732                                               None   \n4733                                               None   \n4734  {'_type': 'snscrape.modules.twitter.User', 'us...   \n4735                                               None   \n4736  {'_type': 'snscrape.modules.twitter.User', 'us...   \n\n                                         mentionedUsers coordinates place  \\\n0     [{'_type': 'snscrape.modules.twitter.User', 'u...        None  None   \n1                                                  None        None  None   \n2                                                  None        None  None   \n3     [{'_type': 'snscrape.modules.twitter.User', 'u...        None  None   \n4                                                  None        None  None   \n...                                                 ...         ...   ...   \n4732                                               None        None  None   \n4733                                               None        None  None   \n4734  [{'_type': 'snscrape.modules.twitter.User', 'u...        None  None   \n4735  [{'_type': 'snscrape.modules.twitter.User', 'u...        None  None   \n4736  [{'_type': 'snscrape.modules.twitter.User', 'u...        None  None   \n\n                                               hashtags  cashtags  \n0           [CovidIsOver, TrudeauTyranny, VaccinesKill]       NaN  \n1     [ccpvirus, vaccineskill, novaccinemandates, wh...       NaN  \n2                                        [vaccineskill]       NaN  \n3     [vaccineinjuries, HoldtheLine, PfizerFraud, Va...       NaN  \n4                [TruckersForFreedom2022, VaccinesKill]       NaN  \n...                                                 ...       ...  \n4732                                            [VAIDS]      None  \n4733                                            [VAIDS]      None  \n4734                                            [VAIDS]      None  \n4735                                            [Vaids]      None  \n4736                                            [VAIDS]      None  \n\n[17693 rows x 28 columns]",
      "text/html": "<div>\n<style scoped>\n    .dataframe tbody tr th:only-of-type {\n        vertical-align: middle;\n    }\n\n    .dataframe tbody tr th {\n        vertical-align: top;\n    }\n\n    .dataframe thead th {\n        text-align: right;\n    }\n</style>\n<table border=\"1\" class=\"dataframe\">\n  <thead>\n    <tr style=\"text-align: right;\">\n      <th></th>\n      <th>_type</th>\n      <th>url</th>\n      <th>date</th>\n      <th>content</th>\n      <th>renderedContent</th>\n      <th>id</th>\n      <th>user</th>\n      <th>replyCount</th>\n      <th>retweetCount</th>\n      <th>likeCount</th>\n      <th>...</th>\n      <th>media</th>\n      <th>retweetedTweet</th>\n      <th>quotedTweet</th>\n      <th>inReplyToTweetId</th>\n      <th>inReplyToUser</th>\n      <th>mentionedUsers</th>\n      <th>coordinates</th>\n      <th>place</th>\n      <th>hashtags</th>\n      <th>cashtags</th>\n    </tr>\n  </thead>\n  <tbody>\n    <tr>\n      <th>0</th>\n      <td>snscrape.modules.twitter.Tweet</td>\n      <td>https://twitter.com/KreugerDunning/status/1495...</td>\n      <td>2022-02-20 23:55:25+00:00</td>\n      <td>@nilikm LOOOL sais the weirdo with a mask in h...</td>\n      <td>@nilikm LOOOL sais the weirdo with a mask in h...</td>\n      <td>1495547672547278856</td>\n      <td>{'_type': 'snscrape.modules.twitter.User', 'us...</td>\n      <td>0</td>\n      <td>0</td>\n      <td>0</td>\n      <td>...</td>\n      <td>None</td>\n      <td>NaN</td>\n      <td>None</td>\n      <td>1.495477e+18</td>\n      <td>{'_type': 'snscrape.modules.twitter.User', 'us...</td>\n      <td>[{'_type': 'snscrape.modules.twitter.User', 'u...</td>\n      <td>None</td>\n      <td>None</td>\n      <td>[CovidIsOver, TrudeauTyranny, VaccinesKill]</td>\n      <td>NaN</td>\n    </tr>\n    <tr>\n      <th>1</th>\n      <td>snscrape.modules.twitter.Tweet</td>\n      <td>https://twitter.com/FarmSailing/status/1495474...</td>\n      <td>2022-02-20 19:05:23+00:00</td>\n      <td>“Israel had been a early trailblazer of a nati...</td>\n      <td>“Israel had been a early trailblazer of a nati...</td>\n      <td>1495474680924418052</td>\n      <td>{'_type': 'snscrape.modules.twitter.User', 'us...</td>\n      <td>0</td>\n      <td>16</td>\n      <td>15</td>\n      <td>...</td>\n      <td>None</td>\n      <td>NaN</td>\n      <td>None</td>\n      <td>NaN</td>\n      <td>None</td>\n      <td>None</td>\n      <td>None</td>\n      <td>None</td>\n      <td>[ccpvirus, vaccineskill, novaccinemandates, wh...</td>\n      <td>NaN</td>\n    </tr>\n    <tr>\n      <th>2</th>\n      <td>snscrape.modules.twitter.Tweet</td>\n      <td>https://twitter.com/FeelingSoGr8t/status/14953...</td>\n      <td>2022-02-20 13:24:35+00:00</td>\n      <td>https://t.co/Qei7wpaNj9  \\n\\n#vaccineskill</td>\n      <td>instagram.com/tv/CaH0tj8Adta…  \\n\\n#vaccineskill</td>\n      <td>1495388918694428674</td>\n      <td>{'_type': 'snscrape.modules.twitter.User', 'us...</td>\n      <td>0</td>\n      <td>0</td>\n      <td>0</td>\n      <td>...</td>\n      <td>None</td>\n      <td>NaN</td>\n      <td>None</td>\n      <td>NaN</td>\n      <td>None</td>\n      <td>None</td>\n      <td>None</td>\n      <td>None</td>\n      <td>[vaccineskill]</td>\n      <td>NaN</td>\n    </tr>\n    <tr>\n      <th>3</th>\n      <td>snscrape.modules.twitter.Tweet</td>\n      <td>https://twitter.com/InalaBrisbane/status/14953...</td>\n      <td>2022-02-20 12:00:05+00:00</td>\n      <td>Terrific interview by @mariaaazeee with @DowdE...</td>\n      <td>Terrific interview by @mariaaazeee with @DowdE...</td>\n      <td>1495367652478369793</td>\n      <td>{'_type': 'snscrape.modules.twitter.User', 'us...</td>\n      <td>1</td>\n      <td>1</td>\n      <td>7</td>\n      <td>...</td>\n      <td>None</td>\n      <td>NaN</td>\n      <td>None</td>\n      <td>NaN</td>\n      <td>None</td>\n      <td>[{'_type': 'snscrape.modules.twitter.User', 'u...</td>\n      <td>None</td>\n      <td>None</td>\n      <td>[vaccineinjuries, HoldtheLine, PfizerFraud, Va...</td>\n      <td>NaN</td>\n    </tr>\n    <tr>\n      <th>4</th>\n      <td>snscrape.modules.twitter.Tweet</td>\n      <td>https://twitter.com/teakalmia/status/149515056...</td>\n      <td>2022-02-19 21:37:26+00:00</td>\n      <td>#TruckersForFreedom2022  #VaccinesKill https:/...</td>\n      <td>#TruckersForFreedom2022  #VaccinesKill twitter...</td>\n      <td>1495150560504430600</td>\n      <td>{'_type': 'snscrape.modules.twitter.User', 'us...</td>\n      <td>0</td>\n      <td>0</td>\n      <td>0</td>\n      <td>...</td>\n      <td>None</td>\n      <td>NaN</td>\n      <td>{'_type': 'snscrape.modules.twitter.Tweet', 'u...</td>\n      <td>NaN</td>\n      <td>None</td>\n      <td>None</td>\n      <td>None</td>\n      <td>None</td>\n      <td>[TruckersForFreedom2022, VaccinesKill]</td>\n      <td>NaN</td>\n    </tr>\n    <tr>\n      <th>...</th>\n      <td>...</td>\n      <td>...</td>\n      <td>...</td>\n      <td>...</td>\n      <td>...</td>\n      <td>...</td>\n      <td>...</td>\n      <td>...</td>\n      <td>...</td>\n      <td>...</td>\n      <td>...</td>\n      <td>...</td>\n      <td>...</td>\n      <td>...</td>\n      <td>...</td>\n      <td>...</td>\n      <td>...</td>\n      <td>...</td>\n      <td>...</td>\n      <td>...</td>\n      <td>...</td>\n    </tr>\n    <tr>\n      <th>4732</th>\n      <td>snscrape.modules.twitter.Tweet</td>\n      <td>https://twitter.com/ItCouldAlwaysB1/status/144...</td>\n      <td>2021-10-12 16:00:29+00:00</td>\n      <td>VAIDS = Vaccine Acquired Immune Deficiency Syn...</td>\n      <td>VAIDS = Vaccine Acquired Immune Deficiency Syn...</td>\n      <td>1447955338460745733</td>\n      <td>{'_type': 'snscrape.modules.twitter.User', 'us...</td>\n      <td>0</td>\n      <td>1</td>\n      <td>3</td>\n      <td>...</td>\n      <td>None</td>\n      <td>NaN</td>\n      <td>None</td>\n      <td>NaN</td>\n      <td>None</td>\n      <td>None</td>\n      <td>None</td>\n      <td>None</td>\n      <td>[VAIDS]</td>\n      <td>None</td>\n    </tr>\n    <tr>\n      <th>4733</th>\n      <td>snscrape.modules.twitter.Tweet</td>\n      <td>https://twitter.com/theallinoneteam/status/137...</td>\n      <td>2021-04-04 21:33:10+00:00</td>\n      <td>Maybe a new illness will be created? VAIDS!  V...</td>\n      <td>Maybe a new illness will be created? VAIDS!  V...</td>\n      <td>1378822981112229889</td>\n      <td>{'_type': 'snscrape.modules.twitter.User', 'us...</td>\n      <td>0</td>\n      <td>0</td>\n      <td>0</td>\n      <td>...</td>\n      <td>None</td>\n      <td>NaN</td>\n      <td>None</td>\n      <td>NaN</td>\n      <td>None</td>\n      <td>None</td>\n      <td>None</td>\n      <td>None</td>\n      <td>[VAIDS]</td>\n      <td>None</td>\n    </tr>\n    <tr>\n      <th>4734</th>\n      <td>snscrape.modules.twitter.Tweet</td>\n      <td>https://twitter.com/SundayEwolabi/status/13327...</td>\n      <td>2020-11-28 19:24:17+00:00</td>\n      <td>@richy_os @Johannxs @HMKemiAdeosun The selfish...</td>\n      <td>@richy_os @Johannxs @HMKemiAdeosun The selfish...</td>\n      <td>1332767287154241542</td>\n      <td>{'_type': 'snscrape.modules.twitter.User', 'us...</td>\n      <td>1</td>\n      <td>0</td>\n      <td>3</td>\n      <td>...</td>\n      <td>None</td>\n      <td>NaN</td>\n      <td>None</td>\n      <td>1.332700e+18</td>\n      <td>{'_type': 'snscrape.modules.twitter.User', 'us...</td>\n      <td>[{'_type': 'snscrape.modules.twitter.User', 'u...</td>\n      <td>None</td>\n      <td>None</td>\n      <td>[VAIDS]</td>\n      <td>None</td>\n    </tr>\n    <tr>\n      <th>4735</th>\n      <td>snscrape.modules.twitter.Tweet</td>\n      <td>https://twitter.com/GorwayGlobal/status/133203...</td>\n      <td>2020-11-26 18:56:26+00:00</td>\n      <td>What if India's Drug regulator, @CDSCO_INDIA_I...</td>\n      <td>What if India's Drug regulator, @CDSCO_INDIA_I...</td>\n      <td>1332035503072419843</td>\n      <td>{'_type': 'snscrape.modules.twitter.User', 'us...</td>\n      <td>1</td>\n      <td>0</td>\n      <td>1</td>\n      <td>...</td>\n      <td>None</td>\n      <td>NaN</td>\n      <td>{'_type': 'snscrape.modules.twitter.Tweet', 'u...</td>\n      <td>NaN</td>\n      <td>None</td>\n      <td>[{'_type': 'snscrape.modules.twitter.User', 'u...</td>\n      <td>None</td>\n      <td>None</td>\n      <td>[Vaids]</td>\n      <td>None</td>\n    </tr>\n    <tr>\n      <th>4736</th>\n      <td>snscrape.modules.twitter.Tweet</td>\n      <td>https://twitter.com/SundayEwolabi/status/12947...</td>\n      <td>2020-08-15 22:07:40+00:00</td>\n      <td>@yinkanubi This tweet is loaded with a lot of ...</td>\n      <td>@yinkanubi This tweet is loaded with a lot of ...</td>\n      <td>1294757678598815744</td>\n      <td>{'_type': 'snscrape.modules.twitter.User', 'us...</td>\n      <td>0</td>\n      <td>0</td>\n      <td>1</td>\n      <td>...</td>\n      <td>None</td>\n      <td>NaN</td>\n      <td>None</td>\n      <td>1.294558e+18</td>\n      <td>{'_type': 'snscrape.modules.twitter.User', 'us...</td>\n      <td>[{'_type': 'snscrape.modules.twitter.User', 'u...</td>\n      <td>None</td>\n      <td>None</td>\n      <td>[VAIDS]</td>\n      <td>None</td>\n    </tr>\n  </tbody>\n</table>\n<p>17693 rows × 28 columns</p>\n</div>"
     },
     "execution_count": 1,
     "metadata": {},
     "output_type": "execute_result"
    }
   ],
   "source": [
    "import pandas as pd\n",
    "import matplotlib.pyplot as plt\n",
    "import seaborn as sns\n",
    "%matplotlib inline\n",
    "\n",
    "# Merge all files into one DataFrame\n",
    "\n",
    "hashtags = [\"#vaccineskill\", \"#vaccinesharm\", \"#nojab\", \"#stoptheshot\", \"#VAIDS\"]\n",
    "\n",
    "tweets = pd.read_json(f\"data\\\\{hashtags[0]}-tweets.json\", lines = True)\n",
    "\n",
    "for hashtag in hashtags[1:]:\n",
    "    tmp_df = pd.read_json(f\"data\\\\{hashtag}-tweets.json\", lines = True)\n",
    "    tweets = pd.concat([tweets, tmp_df])\n",
    "\n",
    "tweets"
   ],
   "metadata": {
    "collapsed": false,
    "pycharm": {
     "name": "#%%\n"
    }
   }
  },
  {
   "cell_type": "code",
   "execution_count": 2,
   "id": "c35dddc6",
   "metadata": {},
   "outputs": [
    {
     "data": {
      "text/plain": "(17693, 28)"
     },
     "execution_count": 2,
     "metadata": {},
     "output_type": "execute_result"
    }
   ],
   "source": [
    "tweets.shape"
   ]
  },
  {
   "cell_type": "code",
   "execution_count": 3,
   "id": "1ef279a1",
   "metadata": {},
   "outputs": [
    {
     "data": {
      "text/plain": "array(['_type', 'url', 'date', 'content', 'renderedContent', 'id', 'user',\n       'replyCount', 'retweetCount', 'likeCount', 'quoteCount',\n       'conversationId', 'lang', 'source', 'sourceUrl', 'sourceLabel',\n       'outlinks', 'tcooutlinks', 'media', 'retweetedTweet',\n       'quotedTweet', 'inReplyToTweetId', 'inReplyToUser',\n       'mentionedUsers', 'coordinates', 'place', 'hashtags', 'cashtags'],\n      dtype=object)"
     },
     "execution_count": 3,
     "metadata": {},
     "output_type": "execute_result"
    }
   ],
   "source": [
    "tweets.columns.values"
   ]
  },
  {
   "cell_type": "code",
   "execution_count": 4,
   "outputs": [
    {
     "data": {
      "text/plain": "                          date  \\\n0    2022-02-20 23:55:25+00:00   \n1    2022-02-20 19:05:23+00:00   \n2    2022-02-20 13:24:35+00:00   \n3    2022-02-20 12:00:05+00:00   \n4    2022-02-19 21:37:26+00:00   \n...                        ...   \n4732 2021-10-12 16:00:29+00:00   \n4733 2021-04-04 21:33:10+00:00   \n4734 2020-11-28 19:24:17+00:00   \n4735 2020-11-26 18:56:26+00:00   \n4736 2020-08-15 22:07:40+00:00   \n\n                                                content                   id  \\\n0     @nilikm LOOOL sais the weirdo with a mask in h...  1495547672547278856   \n1     “Israel had been a early trailblazer of a nati...  1495474680924418052   \n2            https://t.co/Qei7wpaNj9  \\n\\n#vaccineskill  1495388918694428674   \n3     Terrific interview by @mariaaazeee with @DowdE...  1495367652478369793   \n4     #TruckersForFreedom2022  #VaccinesKill https:/...  1495150560504430600   \n...                                                 ...                  ...   \n4732  VAIDS = Vaccine Acquired Immune Deficiency Syn...  1447955338460745733   \n4733  Maybe a new illness will be created? VAIDS!  V...  1378822981112229889   \n4734  @richy_os @Johannxs @HMKemiAdeosun The selfish...  1332767287154241542   \n4735  What if India's Drug regulator, @CDSCO_INDIA_I...  1332035503072419843   \n4736  @yinkanubi This tweet is loaded with a lot of ...  1294757678598815744   \n\n                                                   user  replyCount  \\\n0     {'_type': 'snscrape.modules.twitter.User', 'us...           0   \n1     {'_type': 'snscrape.modules.twitter.User', 'us...           0   \n2     {'_type': 'snscrape.modules.twitter.User', 'us...           0   \n3     {'_type': 'snscrape.modules.twitter.User', 'us...           1   \n4     {'_type': 'snscrape.modules.twitter.User', 'us...           0   \n...                                                 ...         ...   \n4732  {'_type': 'snscrape.modules.twitter.User', 'us...           0   \n4733  {'_type': 'snscrape.modules.twitter.User', 'us...           0   \n4734  {'_type': 'snscrape.modules.twitter.User', 'us...           1   \n4735  {'_type': 'snscrape.modules.twitter.User', 'us...           1   \n4736  {'_type': 'snscrape.modules.twitter.User', 'us...           0   \n\n      retweetCount  likeCount  quoteCount lang          sourceLabel  \\\n0                0          0           0   en  Twitter for Android   \n1               16         15           0   en      Twitter Web App   \n2                0          0           0  und   Twitter for iPhone   \n3                1          7           0   en   Twitter for iPhone   \n4                0          0           0  und      Twitter Web App   \n...            ...        ...         ...  ...                  ...   \n4732             1          3           0   en      Twitter Web App   \n4733             0          0           0   en      Twitter Web App   \n4734             0          3           0   en  Twitter for Android   \n4735             0          1           1   en      Twitter Web App   \n4736             0          1           0   en  Twitter for Android   \n\n                                               outlinks media  retweetedTweet  \\\n0                                                  None  None             NaN   \n1     [https://insiderpaper.com/israel-pm-announces-...  None             NaN   \n2     [https://www.instagram.com/tv/CaH0tj8Adta/?utm...  None             NaN   \n3     [https://zeeemedia.com/interview/edward-dowd-f...  None             NaN   \n4     [https://twitter.com/teakalmia/status/14951497...  None             NaN   \n...                                                 ...   ...             ...   \n4732                                               None  None             NaN   \n4733                                               None  None             NaN   \n4734                                               None  None             NaN   \n4735  [https://twitter.com/das_seed/status/132731980...  None             NaN   \n4736                                               None  None             NaN   \n\n                                            quotedTweet  inReplyToTweetId  \\\n0                                                  None      1.495477e+18   \n1                                                  None               NaN   \n2                                                  None               NaN   \n3                                                  None               NaN   \n4     {'_type': 'snscrape.modules.twitter.Tweet', 'u...               NaN   \n...                                                 ...               ...   \n4732                                               None               NaN   \n4733                                               None               NaN   \n4734                                               None      1.332700e+18   \n4735  {'_type': 'snscrape.modules.twitter.Tweet', 'u...               NaN   \n4736                                               None      1.294558e+18   \n\n                                          inReplyToUser  \\\n0     {'_type': 'snscrape.modules.twitter.User', 'us...   \n1                                                  None   \n2                                                  None   \n3                                                  None   \n4                                                  None   \n...                                                 ...   \n4732                                               None   \n4733                                               None   \n4734  {'_type': 'snscrape.modules.twitter.User', 'us...   \n4735                                               None   \n4736  {'_type': 'snscrape.modules.twitter.User', 'us...   \n\n                                         mentionedUsers place  \\\n0     [{'_type': 'snscrape.modules.twitter.User', 'u...  None   \n1                                                  None  None   \n2                                                  None  None   \n3     [{'_type': 'snscrape.modules.twitter.User', 'u...  None   \n4                                                  None  None   \n...                                                 ...   ...   \n4732                                               None  None   \n4733                                               None  None   \n4734  [{'_type': 'snscrape.modules.twitter.User', 'u...  None   \n4735  [{'_type': 'snscrape.modules.twitter.User', 'u...  None   \n4736  [{'_type': 'snscrape.modules.twitter.User', 'u...  None   \n\n                                               hashtags  \n0           [CovidIsOver, TrudeauTyranny, VaccinesKill]  \n1     [ccpvirus, vaccineskill, novaccinemandates, wh...  \n2                                        [vaccineskill]  \n3     [vaccineinjuries, HoldtheLine, PfizerFraud, Va...  \n4                [TruckersForFreedom2022, VaccinesKill]  \n...                                                 ...  \n4732                                            [VAIDS]  \n4733                                            [VAIDS]  \n4734                                            [VAIDS]  \n4735                                            [Vaids]  \n4736                                            [VAIDS]  \n\n[17693 rows x 19 columns]",
      "text/html": "<div>\n<style scoped>\n    .dataframe tbody tr th:only-of-type {\n        vertical-align: middle;\n    }\n\n    .dataframe tbody tr th {\n        vertical-align: top;\n    }\n\n    .dataframe thead th {\n        text-align: right;\n    }\n</style>\n<table border=\"1\" class=\"dataframe\">\n  <thead>\n    <tr style=\"text-align: right;\">\n      <th></th>\n      <th>date</th>\n      <th>content</th>\n      <th>id</th>\n      <th>user</th>\n      <th>replyCount</th>\n      <th>retweetCount</th>\n      <th>likeCount</th>\n      <th>quoteCount</th>\n      <th>lang</th>\n      <th>sourceLabel</th>\n      <th>outlinks</th>\n      <th>media</th>\n      <th>retweetedTweet</th>\n      <th>quotedTweet</th>\n      <th>inReplyToTweetId</th>\n      <th>inReplyToUser</th>\n      <th>mentionedUsers</th>\n      <th>place</th>\n      <th>hashtags</th>\n    </tr>\n  </thead>\n  <tbody>\n    <tr>\n      <th>0</th>\n      <td>2022-02-20 23:55:25+00:00</td>\n      <td>@nilikm LOOOL sais the weirdo with a mask in h...</td>\n      <td>1495547672547278856</td>\n      <td>{'_type': 'snscrape.modules.twitter.User', 'us...</td>\n      <td>0</td>\n      <td>0</td>\n      <td>0</td>\n      <td>0</td>\n      <td>en</td>\n      <td>Twitter for Android</td>\n      <td>None</td>\n      <td>None</td>\n      <td>NaN</td>\n      <td>None</td>\n      <td>1.495477e+18</td>\n      <td>{'_type': 'snscrape.modules.twitter.User', 'us...</td>\n      <td>[{'_type': 'snscrape.modules.twitter.User', 'u...</td>\n      <td>None</td>\n      <td>[CovidIsOver, TrudeauTyranny, VaccinesKill]</td>\n    </tr>\n    <tr>\n      <th>1</th>\n      <td>2022-02-20 19:05:23+00:00</td>\n      <td>“Israel had been a early trailblazer of a nati...</td>\n      <td>1495474680924418052</td>\n      <td>{'_type': 'snscrape.modules.twitter.User', 'us...</td>\n      <td>0</td>\n      <td>16</td>\n      <td>15</td>\n      <td>0</td>\n      <td>en</td>\n      <td>Twitter Web App</td>\n      <td>[https://insiderpaper.com/israel-pm-announces-...</td>\n      <td>None</td>\n      <td>NaN</td>\n      <td>None</td>\n      <td>NaN</td>\n      <td>None</td>\n      <td>None</td>\n      <td>None</td>\n      <td>[ccpvirus, vaccineskill, novaccinemandates, wh...</td>\n    </tr>\n    <tr>\n      <th>2</th>\n      <td>2022-02-20 13:24:35+00:00</td>\n      <td>https://t.co/Qei7wpaNj9  \\n\\n#vaccineskill</td>\n      <td>1495388918694428674</td>\n      <td>{'_type': 'snscrape.modules.twitter.User', 'us...</td>\n      <td>0</td>\n      <td>0</td>\n      <td>0</td>\n      <td>0</td>\n      <td>und</td>\n      <td>Twitter for iPhone</td>\n      <td>[https://www.instagram.com/tv/CaH0tj8Adta/?utm...</td>\n      <td>None</td>\n      <td>NaN</td>\n      <td>None</td>\n      <td>NaN</td>\n      <td>None</td>\n      <td>None</td>\n      <td>None</td>\n      <td>[vaccineskill]</td>\n    </tr>\n    <tr>\n      <th>3</th>\n      <td>2022-02-20 12:00:05+00:00</td>\n      <td>Terrific interview by @mariaaazeee with @DowdE...</td>\n      <td>1495367652478369793</td>\n      <td>{'_type': 'snscrape.modules.twitter.User', 'us...</td>\n      <td>1</td>\n      <td>1</td>\n      <td>7</td>\n      <td>0</td>\n      <td>en</td>\n      <td>Twitter for iPhone</td>\n      <td>[https://zeeemedia.com/interview/edward-dowd-f...</td>\n      <td>None</td>\n      <td>NaN</td>\n      <td>None</td>\n      <td>NaN</td>\n      <td>None</td>\n      <td>[{'_type': 'snscrape.modules.twitter.User', 'u...</td>\n      <td>None</td>\n      <td>[vaccineinjuries, HoldtheLine, PfizerFraud, Va...</td>\n    </tr>\n    <tr>\n      <th>4</th>\n      <td>2022-02-19 21:37:26+00:00</td>\n      <td>#TruckersForFreedom2022  #VaccinesKill https:/...</td>\n      <td>1495150560504430600</td>\n      <td>{'_type': 'snscrape.modules.twitter.User', 'us...</td>\n      <td>0</td>\n      <td>0</td>\n      <td>0</td>\n      <td>0</td>\n      <td>und</td>\n      <td>Twitter Web App</td>\n      <td>[https://twitter.com/teakalmia/status/14951497...</td>\n      <td>None</td>\n      <td>NaN</td>\n      <td>{'_type': 'snscrape.modules.twitter.Tweet', 'u...</td>\n      <td>NaN</td>\n      <td>None</td>\n      <td>None</td>\n      <td>None</td>\n      <td>[TruckersForFreedom2022, VaccinesKill]</td>\n    </tr>\n    <tr>\n      <th>...</th>\n      <td>...</td>\n      <td>...</td>\n      <td>...</td>\n      <td>...</td>\n      <td>...</td>\n      <td>...</td>\n      <td>...</td>\n      <td>...</td>\n      <td>...</td>\n      <td>...</td>\n      <td>...</td>\n      <td>...</td>\n      <td>...</td>\n      <td>...</td>\n      <td>...</td>\n      <td>...</td>\n      <td>...</td>\n      <td>...</td>\n      <td>...</td>\n    </tr>\n    <tr>\n      <th>4732</th>\n      <td>2021-10-12 16:00:29+00:00</td>\n      <td>VAIDS = Vaccine Acquired Immune Deficiency Syn...</td>\n      <td>1447955338460745733</td>\n      <td>{'_type': 'snscrape.modules.twitter.User', 'us...</td>\n      <td>0</td>\n      <td>1</td>\n      <td>3</td>\n      <td>0</td>\n      <td>en</td>\n      <td>Twitter Web App</td>\n      <td>None</td>\n      <td>None</td>\n      <td>NaN</td>\n      <td>None</td>\n      <td>NaN</td>\n      <td>None</td>\n      <td>None</td>\n      <td>None</td>\n      <td>[VAIDS]</td>\n    </tr>\n    <tr>\n      <th>4733</th>\n      <td>2021-04-04 21:33:10+00:00</td>\n      <td>Maybe a new illness will be created? VAIDS!  V...</td>\n      <td>1378822981112229889</td>\n      <td>{'_type': 'snscrape.modules.twitter.User', 'us...</td>\n      <td>0</td>\n      <td>0</td>\n      <td>0</td>\n      <td>0</td>\n      <td>en</td>\n      <td>Twitter Web App</td>\n      <td>None</td>\n      <td>None</td>\n      <td>NaN</td>\n      <td>None</td>\n      <td>NaN</td>\n      <td>None</td>\n      <td>None</td>\n      <td>None</td>\n      <td>[VAIDS]</td>\n    </tr>\n    <tr>\n      <th>4734</th>\n      <td>2020-11-28 19:24:17+00:00</td>\n      <td>@richy_os @Johannxs @HMKemiAdeosun The selfish...</td>\n      <td>1332767287154241542</td>\n      <td>{'_type': 'snscrape.modules.twitter.User', 'us...</td>\n      <td>1</td>\n      <td>0</td>\n      <td>3</td>\n      <td>0</td>\n      <td>en</td>\n      <td>Twitter for Android</td>\n      <td>None</td>\n      <td>None</td>\n      <td>NaN</td>\n      <td>None</td>\n      <td>1.332700e+18</td>\n      <td>{'_type': 'snscrape.modules.twitter.User', 'us...</td>\n      <td>[{'_type': 'snscrape.modules.twitter.User', 'u...</td>\n      <td>None</td>\n      <td>[VAIDS]</td>\n    </tr>\n    <tr>\n      <th>4735</th>\n      <td>2020-11-26 18:56:26+00:00</td>\n      <td>What if India's Drug regulator, @CDSCO_INDIA_I...</td>\n      <td>1332035503072419843</td>\n      <td>{'_type': 'snscrape.modules.twitter.User', 'us...</td>\n      <td>1</td>\n      <td>0</td>\n      <td>1</td>\n      <td>1</td>\n      <td>en</td>\n      <td>Twitter Web App</td>\n      <td>[https://twitter.com/das_seed/status/132731980...</td>\n      <td>None</td>\n      <td>NaN</td>\n      <td>{'_type': 'snscrape.modules.twitter.Tweet', 'u...</td>\n      <td>NaN</td>\n      <td>None</td>\n      <td>[{'_type': 'snscrape.modules.twitter.User', 'u...</td>\n      <td>None</td>\n      <td>[Vaids]</td>\n    </tr>\n    <tr>\n      <th>4736</th>\n      <td>2020-08-15 22:07:40+00:00</td>\n      <td>@yinkanubi This tweet is loaded with a lot of ...</td>\n      <td>1294757678598815744</td>\n      <td>{'_type': 'snscrape.modules.twitter.User', 'us...</td>\n      <td>0</td>\n      <td>0</td>\n      <td>1</td>\n      <td>0</td>\n      <td>en</td>\n      <td>Twitter for Android</td>\n      <td>None</td>\n      <td>None</td>\n      <td>NaN</td>\n      <td>None</td>\n      <td>1.294558e+18</td>\n      <td>{'_type': 'snscrape.modules.twitter.User', 'us...</td>\n      <td>[{'_type': 'snscrape.modules.twitter.User', 'u...</td>\n      <td>None</td>\n      <td>[VAIDS]</td>\n    </tr>\n  </tbody>\n</table>\n<p>17693 rows × 19 columns</p>\n</div>"
     },
     "execution_count": 4,
     "metadata": {},
     "output_type": "execute_result"
    }
   ],
   "source": [
    "# Drop columns that contain useless information\n",
    "columns_to_drop = ['_type', 'url', 'renderedContent', 'conversationId', 'source', 'sourceUrl', 'tcooutlinks', 'coordinates', 'cashtags']\n",
    "tweets = tweets.drop(columns=columns_to_drop)\n",
    "tweets"
   ],
   "metadata": {
    "collapsed": false,
    "pycharm": {
     "name": "#%%\n"
    }
   }
  },
  {
   "cell_type": "code",
   "execution_count": 5,
   "outputs": [
    {
     "data": {
      "text/plain": "17615"
     },
     "execution_count": 5,
     "metadata": {},
     "output_type": "execute_result"
    }
   ],
   "source": [
    "tweets['id'].nunique()"
   ],
   "metadata": {
    "collapsed": false,
    "pycharm": {
     "name": "#%%\n"
    }
   }
  },
  {
   "cell_type": "code",
   "execution_count": 6,
   "outputs": [
    {
     "name": "stderr",
     "output_type": "stream",
     "text": [
      "C:\\Users\\Perso\\AppData\\Local\\Temp/ipykernel_4152/3728182720.py:6: SettingWithCopyWarning: \n",
      "A value is trying to be set on a copy of a slice from a DataFrame.\n",
      "Try using .loc[row_indexer,col_indexer] = value instead\n",
      "\n",
      "See the caveats in the documentation: https://pandas.pydata.org/pandas-docs/stable/user_guide/indexing.html#returning-a-view-versus-a-copy\n",
      "  tweets['id'] = tweets['id'].map(str)\n"
     ]
    },
    {
     "data": {
      "text/plain": "                                   date  \\\nid                                        \n1495547672547278856 2022-02-20 23:55:25   \n1495474680924418052 2022-02-20 19:05:23   \n1495388918694428674 2022-02-20 13:24:35   \n1495367652478369793 2022-02-20 12:00:05   \n1495150560504430600 2022-02-19 21:37:26   \n...                                 ...   \n1447955338460745733 2021-10-12 16:00:29   \n1378822981112229889 2021-04-04 21:33:10   \n1332767287154241542 2020-11-28 19:24:17   \n1332035503072419843 2020-11-26 18:56:26   \n1294757678598815744 2020-08-15 22:07:40   \n\n                                                               content  \\\nid                                                                       \n1495547672547278856  @nilikm LOOOL sais the weirdo with a mask in h...   \n1495474680924418052  “Israel had been a early trailblazer of a nati...   \n1495388918694428674         https://t.co/Qei7wpaNj9  \\n\\n#vaccineskill   \n1495367652478369793  Terrific interview by @mariaaazeee with @DowdE...   \n1495150560504430600  #TruckersForFreedom2022  #VaccinesKill https:/...   \n...                                                                ...   \n1447955338460745733  VAIDS = Vaccine Acquired Immune Deficiency Syn...   \n1378822981112229889  Maybe a new illness will be created? VAIDS!  V...   \n1332767287154241542  @richy_os @Johannxs @HMKemiAdeosun The selfish...   \n1332035503072419843  What if India's Drug regulator, @CDSCO_INDIA_I...   \n1294757678598815744  @yinkanubi This tweet is loaded with a lot of ...   \n\n                                                                  user  \\\nid                                                                       \n1495547672547278856  {'_type': 'snscrape.modules.twitter.User', 'us...   \n1495474680924418052  {'_type': 'snscrape.modules.twitter.User', 'us...   \n1495388918694428674  {'_type': 'snscrape.modules.twitter.User', 'us...   \n1495367652478369793  {'_type': 'snscrape.modules.twitter.User', 'us...   \n1495150560504430600  {'_type': 'snscrape.modules.twitter.User', 'us...   \n...                                                                ...   \n1447955338460745733  {'_type': 'snscrape.modules.twitter.User', 'us...   \n1378822981112229889  {'_type': 'snscrape.modules.twitter.User', 'us...   \n1332767287154241542  {'_type': 'snscrape.modules.twitter.User', 'us...   \n1332035503072419843  {'_type': 'snscrape.modules.twitter.User', 'us...   \n1294757678598815744  {'_type': 'snscrape.modules.twitter.User', 'us...   \n\n                     replyCount  retweetCount  likeCount  quoteCount lang  \\\nid                                                                          \n1495547672547278856           0             0          0           0   en   \n1495474680924418052           0            16         15           0   en   \n1495388918694428674           0             0          0           0  und   \n1495367652478369793           1             1          7           0   en   \n1495150560504430600           0             0          0           0  und   \n...                         ...           ...        ...         ...  ...   \n1447955338460745733           0             1          3           0   en   \n1378822981112229889           0             0          0           0   en   \n1332767287154241542           1             0          3           0   en   \n1332035503072419843           1             0          1           1   en   \n1294757678598815744           0             0          1           0   en   \n\n                             sourceLabel  \\\nid                                         \n1495547672547278856  Twitter for Android   \n1495474680924418052      Twitter Web App   \n1495388918694428674   Twitter for iPhone   \n1495367652478369793   Twitter for iPhone   \n1495150560504430600      Twitter Web App   \n...                                  ...   \n1447955338460745733      Twitter Web App   \n1378822981112229889      Twitter Web App   \n1332767287154241542  Twitter for Android   \n1332035503072419843      Twitter Web App   \n1294757678598815744  Twitter for Android   \n\n                                                              outlinks media  \\\nid                                                                             \n1495547672547278856                                               None  None   \n1495474680924418052  [https://insiderpaper.com/israel-pm-announces-...  None   \n1495388918694428674  [https://www.instagram.com/tv/CaH0tj8Adta/?utm...  None   \n1495367652478369793  [https://zeeemedia.com/interview/edward-dowd-f...  None   \n1495150560504430600  [https://twitter.com/teakalmia/status/14951497...  None   \n...                                                                ...   ...   \n1447955338460745733                                               None  None   \n1378822981112229889                                               None  None   \n1332767287154241542                                               None  None   \n1332035503072419843  [https://twitter.com/das_seed/status/132731980...  None   \n1294757678598815744                                               None  None   \n\n                     retweetedTweet  \\\nid                                    \n1495547672547278856             NaN   \n1495474680924418052             NaN   \n1495388918694428674             NaN   \n1495367652478369793             NaN   \n1495150560504430600             NaN   \n...                             ...   \n1447955338460745733             NaN   \n1378822981112229889             NaN   \n1332767287154241542             NaN   \n1332035503072419843             NaN   \n1294757678598815744             NaN   \n\n                                                           quotedTweet  \\\nid                                                                       \n1495547672547278856                                               None   \n1495474680924418052                                               None   \n1495388918694428674                                               None   \n1495367652478369793                                               None   \n1495150560504430600  {'_type': 'snscrape.modules.twitter.Tweet', 'u...   \n...                                                                ...   \n1447955338460745733                                               None   \n1378822981112229889                                               None   \n1332767287154241542                                               None   \n1332035503072419843  {'_type': 'snscrape.modules.twitter.Tweet', 'u...   \n1294757678598815744                                               None   \n\n                     inReplyToTweetId  \\\nid                                      \n1495547672547278856      1.495477e+18   \n1495474680924418052               NaN   \n1495388918694428674               NaN   \n1495367652478369793               NaN   \n1495150560504430600               NaN   \n...                               ...   \n1447955338460745733               NaN   \n1378822981112229889               NaN   \n1332767287154241542      1.332700e+18   \n1332035503072419843               NaN   \n1294757678598815744      1.294558e+18   \n\n                                                         inReplyToUser  \\\nid                                                                       \n1495547672547278856  {'_type': 'snscrape.modules.twitter.User', 'us...   \n1495474680924418052                                               None   \n1495388918694428674                                               None   \n1495367652478369793                                               None   \n1495150560504430600                                               None   \n...                                                                ...   \n1447955338460745733                                               None   \n1378822981112229889                                               None   \n1332767287154241542  {'_type': 'snscrape.modules.twitter.User', 'us...   \n1332035503072419843                                               None   \n1294757678598815744  {'_type': 'snscrape.modules.twitter.User', 'us...   \n\n                                                        mentionedUsers place  \\\nid                                                                             \n1495547672547278856  [{'_type': 'snscrape.modules.twitter.User', 'u...  None   \n1495474680924418052                                               None  None   \n1495388918694428674                                               None  None   \n1495367652478369793  [{'_type': 'snscrape.modules.twitter.User', 'u...  None   \n1495150560504430600                                               None  None   \n...                                                                ...   ...   \n1447955338460745733                                               None  None   \n1378822981112229889                                               None  None   \n1332767287154241542  [{'_type': 'snscrape.modules.twitter.User', 'u...  None   \n1332035503072419843  [{'_type': 'snscrape.modules.twitter.User', 'u...  None   \n1294757678598815744  [{'_type': 'snscrape.modules.twitter.User', 'u...  None   \n\n                                                              hashtags  \nid                                                                      \n1495547672547278856        [CovidIsOver, TrudeauTyranny, VaccinesKill]  \n1495474680924418052  [ccpvirus, vaccineskill, novaccinemandates, wh...  \n1495388918694428674                                     [vaccineskill]  \n1495367652478369793  [vaccineinjuries, HoldtheLine, PfizerFraud, Va...  \n1495150560504430600             [TruckersForFreedom2022, VaccinesKill]  \n...                                                                ...  \n1447955338460745733                                            [VAIDS]  \n1378822981112229889                                            [VAIDS]  \n1332767287154241542                                            [VAIDS]  \n1332035503072419843                                            [Vaids]  \n1294757678598815744                                            [VAIDS]  \n\n[17615 rows x 18 columns]",
      "text/html": "<div>\n<style scoped>\n    .dataframe tbody tr th:only-of-type {\n        vertical-align: middle;\n    }\n\n    .dataframe tbody tr th {\n        vertical-align: top;\n    }\n\n    .dataframe thead th {\n        text-align: right;\n    }\n</style>\n<table border=\"1\" class=\"dataframe\">\n  <thead>\n    <tr style=\"text-align: right;\">\n      <th></th>\n      <th>date</th>\n      <th>content</th>\n      <th>user</th>\n      <th>replyCount</th>\n      <th>retweetCount</th>\n      <th>likeCount</th>\n      <th>quoteCount</th>\n      <th>lang</th>\n      <th>sourceLabel</th>\n      <th>outlinks</th>\n      <th>media</th>\n      <th>retweetedTweet</th>\n      <th>quotedTweet</th>\n      <th>inReplyToTweetId</th>\n      <th>inReplyToUser</th>\n      <th>mentionedUsers</th>\n      <th>place</th>\n      <th>hashtags</th>\n    </tr>\n    <tr>\n      <th>id</th>\n      <th></th>\n      <th></th>\n      <th></th>\n      <th></th>\n      <th></th>\n      <th></th>\n      <th></th>\n      <th></th>\n      <th></th>\n      <th></th>\n      <th></th>\n      <th></th>\n      <th></th>\n      <th></th>\n      <th></th>\n      <th></th>\n      <th></th>\n      <th></th>\n    </tr>\n  </thead>\n  <tbody>\n    <tr>\n      <th>1495547672547278856</th>\n      <td>2022-02-20 23:55:25</td>\n      <td>@nilikm LOOOL sais the weirdo with a mask in h...</td>\n      <td>{'_type': 'snscrape.modules.twitter.User', 'us...</td>\n      <td>0</td>\n      <td>0</td>\n      <td>0</td>\n      <td>0</td>\n      <td>en</td>\n      <td>Twitter for Android</td>\n      <td>None</td>\n      <td>None</td>\n      <td>NaN</td>\n      <td>None</td>\n      <td>1.495477e+18</td>\n      <td>{'_type': 'snscrape.modules.twitter.User', 'us...</td>\n      <td>[{'_type': 'snscrape.modules.twitter.User', 'u...</td>\n      <td>None</td>\n      <td>[CovidIsOver, TrudeauTyranny, VaccinesKill]</td>\n    </tr>\n    <tr>\n      <th>1495474680924418052</th>\n      <td>2022-02-20 19:05:23</td>\n      <td>“Israel had been a early trailblazer of a nati...</td>\n      <td>{'_type': 'snscrape.modules.twitter.User', 'us...</td>\n      <td>0</td>\n      <td>16</td>\n      <td>15</td>\n      <td>0</td>\n      <td>en</td>\n      <td>Twitter Web App</td>\n      <td>[https://insiderpaper.com/israel-pm-announces-...</td>\n      <td>None</td>\n      <td>NaN</td>\n      <td>None</td>\n      <td>NaN</td>\n      <td>None</td>\n      <td>None</td>\n      <td>None</td>\n      <td>[ccpvirus, vaccineskill, novaccinemandates, wh...</td>\n    </tr>\n    <tr>\n      <th>1495388918694428674</th>\n      <td>2022-02-20 13:24:35</td>\n      <td>https://t.co/Qei7wpaNj9  \\n\\n#vaccineskill</td>\n      <td>{'_type': 'snscrape.modules.twitter.User', 'us...</td>\n      <td>0</td>\n      <td>0</td>\n      <td>0</td>\n      <td>0</td>\n      <td>und</td>\n      <td>Twitter for iPhone</td>\n      <td>[https://www.instagram.com/tv/CaH0tj8Adta/?utm...</td>\n      <td>None</td>\n      <td>NaN</td>\n      <td>None</td>\n      <td>NaN</td>\n      <td>None</td>\n      <td>None</td>\n      <td>None</td>\n      <td>[vaccineskill]</td>\n    </tr>\n    <tr>\n      <th>1495367652478369793</th>\n      <td>2022-02-20 12:00:05</td>\n      <td>Terrific interview by @mariaaazeee with @DowdE...</td>\n      <td>{'_type': 'snscrape.modules.twitter.User', 'us...</td>\n      <td>1</td>\n      <td>1</td>\n      <td>7</td>\n      <td>0</td>\n      <td>en</td>\n      <td>Twitter for iPhone</td>\n      <td>[https://zeeemedia.com/interview/edward-dowd-f...</td>\n      <td>None</td>\n      <td>NaN</td>\n      <td>None</td>\n      <td>NaN</td>\n      <td>None</td>\n      <td>[{'_type': 'snscrape.modules.twitter.User', 'u...</td>\n      <td>None</td>\n      <td>[vaccineinjuries, HoldtheLine, PfizerFraud, Va...</td>\n    </tr>\n    <tr>\n      <th>1495150560504430600</th>\n      <td>2022-02-19 21:37:26</td>\n      <td>#TruckersForFreedom2022  #VaccinesKill https:/...</td>\n      <td>{'_type': 'snscrape.modules.twitter.User', 'us...</td>\n      <td>0</td>\n      <td>0</td>\n      <td>0</td>\n      <td>0</td>\n      <td>und</td>\n      <td>Twitter Web App</td>\n      <td>[https://twitter.com/teakalmia/status/14951497...</td>\n      <td>None</td>\n      <td>NaN</td>\n      <td>{'_type': 'snscrape.modules.twitter.Tweet', 'u...</td>\n      <td>NaN</td>\n      <td>None</td>\n      <td>None</td>\n      <td>None</td>\n      <td>[TruckersForFreedom2022, VaccinesKill]</td>\n    </tr>\n    <tr>\n      <th>...</th>\n      <td>...</td>\n      <td>...</td>\n      <td>...</td>\n      <td>...</td>\n      <td>...</td>\n      <td>...</td>\n      <td>...</td>\n      <td>...</td>\n      <td>...</td>\n      <td>...</td>\n      <td>...</td>\n      <td>...</td>\n      <td>...</td>\n      <td>...</td>\n      <td>...</td>\n      <td>...</td>\n      <td>...</td>\n      <td>...</td>\n    </tr>\n    <tr>\n      <th>1447955338460745733</th>\n      <td>2021-10-12 16:00:29</td>\n      <td>VAIDS = Vaccine Acquired Immune Deficiency Syn...</td>\n      <td>{'_type': 'snscrape.modules.twitter.User', 'us...</td>\n      <td>0</td>\n      <td>1</td>\n      <td>3</td>\n      <td>0</td>\n      <td>en</td>\n      <td>Twitter Web App</td>\n      <td>None</td>\n      <td>None</td>\n      <td>NaN</td>\n      <td>None</td>\n      <td>NaN</td>\n      <td>None</td>\n      <td>None</td>\n      <td>None</td>\n      <td>[VAIDS]</td>\n    </tr>\n    <tr>\n      <th>1378822981112229889</th>\n      <td>2021-04-04 21:33:10</td>\n      <td>Maybe a new illness will be created? VAIDS!  V...</td>\n      <td>{'_type': 'snscrape.modules.twitter.User', 'us...</td>\n      <td>0</td>\n      <td>0</td>\n      <td>0</td>\n      <td>0</td>\n      <td>en</td>\n      <td>Twitter Web App</td>\n      <td>None</td>\n      <td>None</td>\n      <td>NaN</td>\n      <td>None</td>\n      <td>NaN</td>\n      <td>None</td>\n      <td>None</td>\n      <td>None</td>\n      <td>[VAIDS]</td>\n    </tr>\n    <tr>\n      <th>1332767287154241542</th>\n      <td>2020-11-28 19:24:17</td>\n      <td>@richy_os @Johannxs @HMKemiAdeosun The selfish...</td>\n      <td>{'_type': 'snscrape.modules.twitter.User', 'us...</td>\n      <td>1</td>\n      <td>0</td>\n      <td>3</td>\n      <td>0</td>\n      <td>en</td>\n      <td>Twitter for Android</td>\n      <td>None</td>\n      <td>None</td>\n      <td>NaN</td>\n      <td>None</td>\n      <td>1.332700e+18</td>\n      <td>{'_type': 'snscrape.modules.twitter.User', 'us...</td>\n      <td>[{'_type': 'snscrape.modules.twitter.User', 'u...</td>\n      <td>None</td>\n      <td>[VAIDS]</td>\n    </tr>\n    <tr>\n      <th>1332035503072419843</th>\n      <td>2020-11-26 18:56:26</td>\n      <td>What if India's Drug regulator, @CDSCO_INDIA_I...</td>\n      <td>{'_type': 'snscrape.modules.twitter.User', 'us...</td>\n      <td>1</td>\n      <td>0</td>\n      <td>1</td>\n      <td>1</td>\n      <td>en</td>\n      <td>Twitter Web App</td>\n      <td>[https://twitter.com/das_seed/status/132731980...</td>\n      <td>None</td>\n      <td>NaN</td>\n      <td>{'_type': 'snscrape.modules.twitter.Tweet', 'u...</td>\n      <td>NaN</td>\n      <td>None</td>\n      <td>[{'_type': 'snscrape.modules.twitter.User', 'u...</td>\n      <td>None</td>\n      <td>[Vaids]</td>\n    </tr>\n    <tr>\n      <th>1294757678598815744</th>\n      <td>2020-08-15 22:07:40</td>\n      <td>@yinkanubi This tweet is loaded with a lot of ...</td>\n      <td>{'_type': 'snscrape.modules.twitter.User', 'us...</td>\n      <td>0</td>\n      <td>0</td>\n      <td>1</td>\n      <td>0</td>\n      <td>en</td>\n      <td>Twitter for Android</td>\n      <td>None</td>\n      <td>None</td>\n      <td>NaN</td>\n      <td>None</td>\n      <td>1.294558e+18</td>\n      <td>{'_type': 'snscrape.modules.twitter.User', 'us...</td>\n      <td>[{'_type': 'snscrape.modules.twitter.User', 'u...</td>\n      <td>None</td>\n      <td>[VAIDS]</td>\n    </tr>\n  </tbody>\n</table>\n<p>17615 rows × 18 columns</p>\n</div>"
     },
     "execution_count": 6,
     "metadata": {},
     "output_type": "execute_result"
    }
   ],
   "source": [
    "# Number of unique Tweets != total number of Tweets --> duplicate entries\n",
    "# Drop duplicate Tweets\n",
    "tweets = tweets.drop_duplicates(subset='id')\n",
    "\n",
    "# Use Tweet ID to identify data entries\n",
    "tweets['id'] = tweets['id'].map(str)\n",
    "tweets = tweets.set_index('id')\n",
    "\n",
    "# The \"+00:00\" in entries in the 'date' column indicate the UTC timezone. It looks ugly, so let's remove it.\n",
    "tweets['date'] = tweets['date'].dt.tz_localize(None)\n",
    "\n",
    "tweets"
   ],
   "metadata": {
    "collapsed": false,
    "pycharm": {
     "name": "#%%\n"
    }
   }
  },
  {
   "cell_type": "code",
   "execution_count": 7,
   "outputs": [
    {
     "data": {
      "text/plain": "array(['en', 'und', 'fr', 'es', 'pl', 'zh', 'tr', 'nl', 'ca', 'it', 'ar',\n       'el', 'cs', 'sv', 'de', 'hi', 'pt', 'da', 'tl', 'sr', 'in', 'et',\n       'no', 'lv', 'ht', 'ja', 'ro', 'fi', 'cy', 'lt', 'sl', 'is', 'th',\n       'hu', 'mr', 'bg', 'ko'], dtype=object)"
     },
     "execution_count": 7,
     "metadata": {},
     "output_type": "execute_result"
    }
   ],
   "source": [
    "tweets['lang'].unique()"
   ],
   "metadata": {
    "collapsed": false,
    "pycharm": {
     "name": "#%%\n"
    }
   }
  },
  {
   "cell_type": "code",
   "execution_count": 8,
   "outputs": [
    {
     "data": {
      "text/plain": "                                   date  \\\nid                                        \n1495547672547278856 2022-02-20 23:55:25   \n1495474680924418052 2022-02-20 19:05:23   \n1495388918694428674 2022-02-20 13:24:35   \n1495367652478369793 2022-02-20 12:00:05   \n1495150560504430600 2022-02-19 21:37:26   \n...                                 ...   \n1447955338460745733 2021-10-12 16:00:29   \n1378822981112229889 2021-04-04 21:33:10   \n1332767287154241542 2020-11-28 19:24:17   \n1332035503072419843 2020-11-26 18:56:26   \n1294757678598815744 2020-08-15 22:07:40   \n\n                                                               content  \\\nid                                                                       \n1495547672547278856  @nilikm LOOOL sais the weirdo with a mask in h...   \n1495474680924418052  “Israel had been a early trailblazer of a nati...   \n1495388918694428674         https://t.co/Qei7wpaNj9  \\n\\n#vaccineskill   \n1495367652478369793  Terrific interview by @mariaaazeee with @DowdE...   \n1495150560504430600  #TruckersForFreedom2022  #VaccinesKill https:/...   \n...                                                                ...   \n1447955338460745733  VAIDS = Vaccine Acquired Immune Deficiency Syn...   \n1378822981112229889  Maybe a new illness will be created? VAIDS!  V...   \n1332767287154241542  @richy_os @Johannxs @HMKemiAdeosun The selfish...   \n1332035503072419843  What if India's Drug regulator, @CDSCO_INDIA_I...   \n1294757678598815744  @yinkanubi This tweet is loaded with a lot of ...   \n\n                                                                  user  \\\nid                                                                       \n1495547672547278856  {'_type': 'snscrape.modules.twitter.User', 'us...   \n1495474680924418052  {'_type': 'snscrape.modules.twitter.User', 'us...   \n1495388918694428674  {'_type': 'snscrape.modules.twitter.User', 'us...   \n1495367652478369793  {'_type': 'snscrape.modules.twitter.User', 'us...   \n1495150560504430600  {'_type': 'snscrape.modules.twitter.User', 'us...   \n...                                                                ...   \n1447955338460745733  {'_type': 'snscrape.modules.twitter.User', 'us...   \n1378822981112229889  {'_type': 'snscrape.modules.twitter.User', 'us...   \n1332767287154241542  {'_type': 'snscrape.modules.twitter.User', 'us...   \n1332035503072419843  {'_type': 'snscrape.modules.twitter.User', 'us...   \n1294757678598815744  {'_type': 'snscrape.modules.twitter.User', 'us...   \n\n                     replyCount  retweetCount  likeCount  quoteCount     lang  \\\nid                                                                              \n1495547672547278856           0             0          0           0  English   \n1495474680924418052           0            16         15           0  English   \n1495388918694428674           0             0          0           0  Unknown   \n1495367652478369793           1             1          7           0  English   \n1495150560504430600           0             0          0           0  Unknown   \n...                         ...           ...        ...         ...      ...   \n1447955338460745733           0             1          3           0  English   \n1378822981112229889           0             0          0           0  English   \n1332767287154241542           1             0          3           0  English   \n1332035503072419843           1             0          1           1  English   \n1294757678598815744           0             0          1           0  English   \n\n                             sourceLabel  \\\nid                                         \n1495547672547278856  Twitter for Android   \n1495474680924418052      Twitter Web App   \n1495388918694428674   Twitter for iPhone   \n1495367652478369793   Twitter for iPhone   \n1495150560504430600      Twitter Web App   \n...                                  ...   \n1447955338460745733      Twitter Web App   \n1378822981112229889      Twitter Web App   \n1332767287154241542  Twitter for Android   \n1332035503072419843      Twitter Web App   \n1294757678598815744  Twitter for Android   \n\n                                                              outlinks media  \\\nid                                                                             \n1495547672547278856                                               None  None   \n1495474680924418052  [https://insiderpaper.com/israel-pm-announces-...  None   \n1495388918694428674  [https://www.instagram.com/tv/CaH0tj8Adta/?utm...  None   \n1495367652478369793  [https://zeeemedia.com/interview/edward-dowd-f...  None   \n1495150560504430600  [https://twitter.com/teakalmia/status/14951497...  None   \n...                                                                ...   ...   \n1447955338460745733                                               None  None   \n1378822981112229889                                               None  None   \n1332767287154241542                                               None  None   \n1332035503072419843  [https://twitter.com/das_seed/status/132731980...  None   \n1294757678598815744                                               None  None   \n\n                     retweetedTweet  \\\nid                                    \n1495547672547278856             NaN   \n1495474680924418052             NaN   \n1495388918694428674             NaN   \n1495367652478369793             NaN   \n1495150560504430600             NaN   \n...                             ...   \n1447955338460745733             NaN   \n1378822981112229889             NaN   \n1332767287154241542             NaN   \n1332035503072419843             NaN   \n1294757678598815744             NaN   \n\n                                                           quotedTweet  \\\nid                                                                       \n1495547672547278856                                               None   \n1495474680924418052                                               None   \n1495388918694428674                                               None   \n1495367652478369793                                               None   \n1495150560504430600  {'_type': 'snscrape.modules.twitter.Tweet', 'u...   \n...                                                                ...   \n1447955338460745733                                               None   \n1378822981112229889                                               None   \n1332767287154241542                                               None   \n1332035503072419843  {'_type': 'snscrape.modules.twitter.Tweet', 'u...   \n1294757678598815744                                               None   \n\n                     inReplyToTweetId  \\\nid                                      \n1495547672547278856      1.495477e+18   \n1495474680924418052               NaN   \n1495388918694428674               NaN   \n1495367652478369793               NaN   \n1495150560504430600               NaN   \n...                               ...   \n1447955338460745733               NaN   \n1378822981112229889               NaN   \n1332767287154241542      1.332700e+18   \n1332035503072419843               NaN   \n1294757678598815744      1.294558e+18   \n\n                                                         inReplyToUser  \\\nid                                                                       \n1495547672547278856  {'_type': 'snscrape.modules.twitter.User', 'us...   \n1495474680924418052                                               None   \n1495388918694428674                                               None   \n1495367652478369793                                               None   \n1495150560504430600                                               None   \n...                                                                ...   \n1447955338460745733                                               None   \n1378822981112229889                                               None   \n1332767287154241542  {'_type': 'snscrape.modules.twitter.User', 'us...   \n1332035503072419843                                               None   \n1294757678598815744  {'_type': 'snscrape.modules.twitter.User', 'us...   \n\n                                                        mentionedUsers place  \\\nid                                                                             \n1495547672547278856  [{'_type': 'snscrape.modules.twitter.User', 'u...  None   \n1495474680924418052                                               None  None   \n1495388918694428674                                               None  None   \n1495367652478369793  [{'_type': 'snscrape.modules.twitter.User', 'u...  None   \n1495150560504430600                                               None  None   \n...                                                                ...   ...   \n1447955338460745733                                               None  None   \n1378822981112229889                                               None  None   \n1332767287154241542  [{'_type': 'snscrape.modules.twitter.User', 'u...  None   \n1332035503072419843  [{'_type': 'snscrape.modules.twitter.User', 'u...  None   \n1294757678598815744  [{'_type': 'snscrape.modules.twitter.User', 'u...  None   \n\n                                                              hashtags  \nid                                                                      \n1495547672547278856        [CovidIsOver, TrudeauTyranny, VaccinesKill]  \n1495474680924418052  [ccpvirus, vaccineskill, novaccinemandates, wh...  \n1495388918694428674                                     [vaccineskill]  \n1495367652478369793  [vaccineinjuries, HoldtheLine, PfizerFraud, Va...  \n1495150560504430600             [TruckersForFreedom2022, VaccinesKill]  \n...                                                                ...  \n1447955338460745733                                            [VAIDS]  \n1378822981112229889                                            [VAIDS]  \n1332767287154241542                                            [VAIDS]  \n1332035503072419843                                            [Vaids]  \n1294757678598815744                                            [VAIDS]  \n\n[17615 rows x 18 columns]",
      "text/html": "<div>\n<style scoped>\n    .dataframe tbody tr th:only-of-type {\n        vertical-align: middle;\n    }\n\n    .dataframe tbody tr th {\n        vertical-align: top;\n    }\n\n    .dataframe thead th {\n        text-align: right;\n    }\n</style>\n<table border=\"1\" class=\"dataframe\">\n  <thead>\n    <tr style=\"text-align: right;\">\n      <th></th>\n      <th>date</th>\n      <th>content</th>\n      <th>user</th>\n      <th>replyCount</th>\n      <th>retweetCount</th>\n      <th>likeCount</th>\n      <th>quoteCount</th>\n      <th>lang</th>\n      <th>sourceLabel</th>\n      <th>outlinks</th>\n      <th>media</th>\n      <th>retweetedTweet</th>\n      <th>quotedTweet</th>\n      <th>inReplyToTweetId</th>\n      <th>inReplyToUser</th>\n      <th>mentionedUsers</th>\n      <th>place</th>\n      <th>hashtags</th>\n    </tr>\n    <tr>\n      <th>id</th>\n      <th></th>\n      <th></th>\n      <th></th>\n      <th></th>\n      <th></th>\n      <th></th>\n      <th></th>\n      <th></th>\n      <th></th>\n      <th></th>\n      <th></th>\n      <th></th>\n      <th></th>\n      <th></th>\n      <th></th>\n      <th></th>\n      <th></th>\n      <th></th>\n    </tr>\n  </thead>\n  <tbody>\n    <tr>\n      <th>1495547672547278856</th>\n      <td>2022-02-20 23:55:25</td>\n      <td>@nilikm LOOOL sais the weirdo with a mask in h...</td>\n      <td>{'_type': 'snscrape.modules.twitter.User', 'us...</td>\n      <td>0</td>\n      <td>0</td>\n      <td>0</td>\n      <td>0</td>\n      <td>English</td>\n      <td>Twitter for Android</td>\n      <td>None</td>\n      <td>None</td>\n      <td>NaN</td>\n      <td>None</td>\n      <td>1.495477e+18</td>\n      <td>{'_type': 'snscrape.modules.twitter.User', 'us...</td>\n      <td>[{'_type': 'snscrape.modules.twitter.User', 'u...</td>\n      <td>None</td>\n      <td>[CovidIsOver, TrudeauTyranny, VaccinesKill]</td>\n    </tr>\n    <tr>\n      <th>1495474680924418052</th>\n      <td>2022-02-20 19:05:23</td>\n      <td>“Israel had been a early trailblazer of a nati...</td>\n      <td>{'_type': 'snscrape.modules.twitter.User', 'us...</td>\n      <td>0</td>\n      <td>16</td>\n      <td>15</td>\n      <td>0</td>\n      <td>English</td>\n      <td>Twitter Web App</td>\n      <td>[https://insiderpaper.com/israel-pm-announces-...</td>\n      <td>None</td>\n      <td>NaN</td>\n      <td>None</td>\n      <td>NaN</td>\n      <td>None</td>\n      <td>None</td>\n      <td>None</td>\n      <td>[ccpvirus, vaccineskill, novaccinemandates, wh...</td>\n    </tr>\n    <tr>\n      <th>1495388918694428674</th>\n      <td>2022-02-20 13:24:35</td>\n      <td>https://t.co/Qei7wpaNj9  \\n\\n#vaccineskill</td>\n      <td>{'_type': 'snscrape.modules.twitter.User', 'us...</td>\n      <td>0</td>\n      <td>0</td>\n      <td>0</td>\n      <td>0</td>\n      <td>Unknown</td>\n      <td>Twitter for iPhone</td>\n      <td>[https://www.instagram.com/tv/CaH0tj8Adta/?utm...</td>\n      <td>None</td>\n      <td>NaN</td>\n      <td>None</td>\n      <td>NaN</td>\n      <td>None</td>\n      <td>None</td>\n      <td>None</td>\n      <td>[vaccineskill]</td>\n    </tr>\n    <tr>\n      <th>1495367652478369793</th>\n      <td>2022-02-20 12:00:05</td>\n      <td>Terrific interview by @mariaaazeee with @DowdE...</td>\n      <td>{'_type': 'snscrape.modules.twitter.User', 'us...</td>\n      <td>1</td>\n      <td>1</td>\n      <td>7</td>\n      <td>0</td>\n      <td>English</td>\n      <td>Twitter for iPhone</td>\n      <td>[https://zeeemedia.com/interview/edward-dowd-f...</td>\n      <td>None</td>\n      <td>NaN</td>\n      <td>None</td>\n      <td>NaN</td>\n      <td>None</td>\n      <td>[{'_type': 'snscrape.modules.twitter.User', 'u...</td>\n      <td>None</td>\n      <td>[vaccineinjuries, HoldtheLine, PfizerFraud, Va...</td>\n    </tr>\n    <tr>\n      <th>1495150560504430600</th>\n      <td>2022-02-19 21:37:26</td>\n      <td>#TruckersForFreedom2022  #VaccinesKill https:/...</td>\n      <td>{'_type': 'snscrape.modules.twitter.User', 'us...</td>\n      <td>0</td>\n      <td>0</td>\n      <td>0</td>\n      <td>0</td>\n      <td>Unknown</td>\n      <td>Twitter Web App</td>\n      <td>[https://twitter.com/teakalmia/status/14951497...</td>\n      <td>None</td>\n      <td>NaN</td>\n      <td>{'_type': 'snscrape.modules.twitter.Tweet', 'u...</td>\n      <td>NaN</td>\n      <td>None</td>\n      <td>None</td>\n      <td>None</td>\n      <td>[TruckersForFreedom2022, VaccinesKill]</td>\n    </tr>\n    <tr>\n      <th>...</th>\n      <td>...</td>\n      <td>...</td>\n      <td>...</td>\n      <td>...</td>\n      <td>...</td>\n      <td>...</td>\n      <td>...</td>\n      <td>...</td>\n      <td>...</td>\n      <td>...</td>\n      <td>...</td>\n      <td>...</td>\n      <td>...</td>\n      <td>...</td>\n      <td>...</td>\n      <td>...</td>\n      <td>...</td>\n      <td>...</td>\n    </tr>\n    <tr>\n      <th>1447955338460745733</th>\n      <td>2021-10-12 16:00:29</td>\n      <td>VAIDS = Vaccine Acquired Immune Deficiency Syn...</td>\n      <td>{'_type': 'snscrape.modules.twitter.User', 'us...</td>\n      <td>0</td>\n      <td>1</td>\n      <td>3</td>\n      <td>0</td>\n      <td>English</td>\n      <td>Twitter Web App</td>\n      <td>None</td>\n      <td>None</td>\n      <td>NaN</td>\n      <td>None</td>\n      <td>NaN</td>\n      <td>None</td>\n      <td>None</td>\n      <td>None</td>\n      <td>[VAIDS]</td>\n    </tr>\n    <tr>\n      <th>1378822981112229889</th>\n      <td>2021-04-04 21:33:10</td>\n      <td>Maybe a new illness will be created? VAIDS!  V...</td>\n      <td>{'_type': 'snscrape.modules.twitter.User', 'us...</td>\n      <td>0</td>\n      <td>0</td>\n      <td>0</td>\n      <td>0</td>\n      <td>English</td>\n      <td>Twitter Web App</td>\n      <td>None</td>\n      <td>None</td>\n      <td>NaN</td>\n      <td>None</td>\n      <td>NaN</td>\n      <td>None</td>\n      <td>None</td>\n      <td>None</td>\n      <td>[VAIDS]</td>\n    </tr>\n    <tr>\n      <th>1332767287154241542</th>\n      <td>2020-11-28 19:24:17</td>\n      <td>@richy_os @Johannxs @HMKemiAdeosun The selfish...</td>\n      <td>{'_type': 'snscrape.modules.twitter.User', 'us...</td>\n      <td>1</td>\n      <td>0</td>\n      <td>3</td>\n      <td>0</td>\n      <td>English</td>\n      <td>Twitter for Android</td>\n      <td>None</td>\n      <td>None</td>\n      <td>NaN</td>\n      <td>None</td>\n      <td>1.332700e+18</td>\n      <td>{'_type': 'snscrape.modules.twitter.User', 'us...</td>\n      <td>[{'_type': 'snscrape.modules.twitter.User', 'u...</td>\n      <td>None</td>\n      <td>[VAIDS]</td>\n    </tr>\n    <tr>\n      <th>1332035503072419843</th>\n      <td>2020-11-26 18:56:26</td>\n      <td>What if India's Drug regulator, @CDSCO_INDIA_I...</td>\n      <td>{'_type': 'snscrape.modules.twitter.User', 'us...</td>\n      <td>1</td>\n      <td>0</td>\n      <td>1</td>\n      <td>1</td>\n      <td>English</td>\n      <td>Twitter Web App</td>\n      <td>[https://twitter.com/das_seed/status/132731980...</td>\n      <td>None</td>\n      <td>NaN</td>\n      <td>{'_type': 'snscrape.modules.twitter.Tweet', 'u...</td>\n      <td>NaN</td>\n      <td>None</td>\n      <td>[{'_type': 'snscrape.modules.twitter.User', 'u...</td>\n      <td>None</td>\n      <td>[Vaids]</td>\n    </tr>\n    <tr>\n      <th>1294757678598815744</th>\n      <td>2020-08-15 22:07:40</td>\n      <td>@yinkanubi This tweet is loaded with a lot of ...</td>\n      <td>{'_type': 'snscrape.modules.twitter.User', 'us...</td>\n      <td>0</td>\n      <td>0</td>\n      <td>1</td>\n      <td>0</td>\n      <td>English</td>\n      <td>Twitter for Android</td>\n      <td>None</td>\n      <td>None</td>\n      <td>NaN</td>\n      <td>None</td>\n      <td>1.294558e+18</td>\n      <td>{'_type': 'snscrape.modules.twitter.User', 'us...</td>\n      <td>[{'_type': 'snscrape.modules.twitter.User', 'u...</td>\n      <td>None</td>\n      <td>[VAIDS]</td>\n    </tr>\n  </tbody>\n</table>\n<p>17615 rows × 18 columns</p>\n</div>"
     },
     "execution_count": 8,
     "metadata": {},
     "output_type": "execute_result"
    }
   ],
   "source": [
    "# Clean up 'lang' column\n",
    "replacements = {\n",
    "    'en': 'English',\n",
    "    'und': 'Unknown',\n",
    "    'fr': 'French',\n",
    "    'es': 'Spanish',\n",
    "    'pl': 'Polish',\n",
    "    'zh': 'Chinese',\n",
    "    'tr': 'Turkish',\n",
    "    'nl': 'Dutch',\n",
    "    'ca': 'Catalan',\n",
    "    'it': 'Italian',\n",
    "    'ar': 'Arabic',\n",
    "    'el': 'Greek',\n",
    "    'cs': 'Czech',\n",
    "    'sv': 'Swedish',\n",
    "    'de': 'German',\n",
    "    'hi': 'Hindi',\n",
    "    'pt': 'Portugese',\n",
    "    'da': 'Danish',\n",
    "    'tl': 'Tagalog',\n",
    "    'sr': 'Serbian',\n",
    "    'in': 'Unknown',\n",
    "    'et': 'Estonian',\n",
    "    'no': 'Norwegian',\n",
    "    'lv': 'Latvian',\n",
    "    'ht': 'Haitian',\n",
    "    'ja': 'Japanese',\n",
    "    'ro': 'Romanian',\n",
    "    'fi': 'Finnish',\n",
    "    'cy': 'Welsch',\n",
    "    'lt': 'Lithuanian',\n",
    "    'sl': 'Slovenian',\n",
    "    'is': 'Icelandic',\n",
    "    'th': 'Thai',\n",
    "    'hu': 'Hungarian',\n",
    "    'mr': 'Marathi',\n",
    "    'bg': 'Bulgarian',\n",
    "    'ko': 'Korean',\n",
    "}\n",
    "# Symbolic meanings gathered from https://developer.twitter.com/en/docs/twitter-for-websites/supported-languages and https://www.loc.gov/standards/iso639-2/php/code_list.php\n",
    "tweets['lang'] = tweets['lang'].replace(replacements)\n",
    "tweets"
   ],
   "metadata": {
    "collapsed": false,
    "pycharm": {
     "name": "#%%\n"
    }
   }
  },
  {
   "cell_type": "code",
   "execution_count": 9,
   "outputs": [
    {
     "data": {
      "text/plain": "                               _type         username                   id  \\\n0      snscrape.modules.twitter.User   KreugerDunning  1491647986123911168   \n1      snscrape.modules.twitter.User      FarmSailing  1397779652949643271   \n2      snscrape.modules.twitter.User    FeelingSoGr8t  1385002277736521731   \n3      snscrape.modules.twitter.User    InalaBrisbane   979707807111921664   \n4      snscrape.modules.twitter.User        teakalmia            331786486   \n...                              ...              ...                  ...   \n17610  snscrape.modules.twitter.User  ItCouldAlwaysB1  1387196275402018817   \n17611  snscrape.modules.twitter.User  theallinoneteam            462464578   \n17612  snscrape.modules.twitter.User    SundayEwolabi           2944593299   \n17613  snscrape.modules.twitter.User     GorwayGlobal            326142866   \n17614  snscrape.modules.twitter.User    SundayEwolabi           2944593299   \n\n                                        displayname  \\\n0                                    Dunning Kruger   \n1                   Himalaya Sailing Vancouver Farm   \n2      Feelin'Gr8 WesternCulture ≠ ChristianCulture   \n3                                   William Ridley🌸   \n4                                        Tea Kalmia   \n...                                             ...   \n17610   It Could Always Be Worse, It Will Get Worse   \n17611                          The All in One Team↗   \n17612                       sunday Najeriya ewolabi   \n17613                                      JayEnAar   \n17614                       sunday Najeriya ewolabi   \n\n                                             description  \\\n0      On an account suspended spree. \\n\\nGovernments...   \n1      Official Twitter Account of Himalaya Sailing F...   \n2      Christian PharmD Flat-earther Vocalist  Natura...   \n3      Inala, Brisbane, Australia 🇦🇺 🇺🇸🇬🇧 🇨🇦 🇹🇭 🇮🇱 It...   \n4      Blessed the Nation whose God is Yahushua (Jesu...   \n...                                                  ...   \n17610       Heavy Groovy Metal. God Bless and good luck!   \n17611  We are a group of like minded individuals #fre...   \n17612                  I love Nigeria to the hilt.\\n🇳🇬🇳🇬   \n17613  Public health physician. \\nArriving at the rig...   \n17614                  I love Nigeria to the hilt.\\n🇳🇬🇳🇬   \n\n                                          rawDescription descriptionUrls  \\\n0      On an account suspended spree. \\n\\nGovernments...            None   \n1      Official Twitter Account of Himalaya Sailing F...            None   \n2      Christian PharmD Flat-earther Vocalist  Natura...            None   \n3      Inala, Brisbane, Australia 🇦🇺 🇺🇸🇬🇧 🇨🇦 🇹🇭 🇮🇱 It...            None   \n4      Blessed the Nation whose God is Yahushua (Jesu...            None   \n...                                                  ...             ...   \n17610       Heavy Groovy Metal. God Bless and good luck!            None   \n17611  We are a group of like minded individuals #fre...            None   \n17612                  I love Nigeria to the hilt.\\n🇳🇬🇳🇬            None   \n17613  Public health physician. \\nArriving at the rig...            None   \n17614                  I love Nigeria to the hilt.\\n🇳🇬🇳🇬            None   \n\n       verified                    created  followersCount  ...  listedCount  \\\n0         False  2022-02-10T05:39:38+00:00              15  ...            1   \n1         False  2021-05-27T05:00:52+00:00             258  ...            3   \n2         False  2021-04-21T22:47:43+00:00             260  ...            2   \n3         False  2018-03-30T13:11:58+00:00            2040  ...            4   \n4         False  2011-07-08T18:23:38+00:00             198  ...            0   \n...         ...                        ...             ...  ...          ...   \n17610     False  2021-04-28T00:06:05+00:00             265  ...            4   \n17611     False  2012-01-13T00:05:12+00:00            3218  ...           10   \n17612     False  2014-12-27T20:35:26+00:00             373  ...           15   \n17613     False  2011-06-29T13:01:40+00:00            8049  ...          113   \n17614     False  2014-12-27T20:35:26+00:00             373  ...           15   \n\n       mediaCount                        location  protected  \\\n0              92                                      False   \n1             209                                      False   \n2             211  Flat Earth TN /Bayou Lafourche      False   \n3            2456                 Inala, Brisbane      False   \n4            1120                             USA      False   \n...           ...                             ...        ...   \n17610         406                D.P.R.California      False   \n17611         383                Yellowknife, NWT      False   \n17612         281                         Nigeria      False   \n17613        8100                                      False   \n17614         281                         Nigeria      False   \n\n                                                 linkUrl  \\\n0                                                   None   \n1                                                   None   \n2                                                   None   \n3                                                   None   \n4                                                   None   \n...                                                  ...   \n17610                                               None   \n17611  https://vernoncoleman.org/videos/finally-medic...   \n17612                                               None   \n17613             https://muckrack.com/profile/portfolio   \n17614                                               None   \n\n                    linkTcourl  \\\n0                         None   \n1                         None   \n2                         None   \n3                         None   \n4                         None   \n...                        ...   \n17610                     None   \n17611  https://t.co/BSrKz7luRF   \n17612                     None   \n17613  https://t.co/spgk2R1XkB   \n17614                     None   \n\n                                         profileImageUrl  \\\n0      https://pbs.twimg.com/profile_images/149466900...   \n1      https://pbs.twimg.com/profile_images/145664910...   \n2      https://pbs.twimg.com/profile_images/147952044...   \n3      https://pbs.twimg.com/profile_images/147606061...   \n4      https://pbs.twimg.com/profile_images/902215454...   \n...                                                  ...   \n17610  https://pbs.twimg.com/profile_images/138759546...   \n17611  https://pbs.twimg.com/profile_images/138932194...   \n17612  https://pbs.twimg.com/profile_images/148173447...   \n17613  https://pbs.twimg.com/profile_images/101208784...   \n17614  https://pbs.twimg.com/profile_images/148173447...   \n\n                                        profileBannerUrl label  \\\n0      https://pbs.twimg.com/profile_banners/14916479...  None   \n1      https://pbs.twimg.com/profile_banners/13977796...  None   \n2      https://pbs.twimg.com/profile_banners/13850022...  None   \n3      https://pbs.twimg.com/profile_banners/97970780...  None   \n4                                                   None  None   \n...                                                  ...   ...   \n17610  https://pbs.twimg.com/profile_banners/13871962...  None   \n17611  https://pbs.twimg.com/profile_banners/46246457...  None   \n17612                                               None  None   \n17613  https://pbs.twimg.com/profile_banners/32614286...  None   \n17614                                               None  None   \n\n                                       url  \n0       https://twitter.com/KreugerDunning  \n1          https://twitter.com/FarmSailing  \n2        https://twitter.com/FeelingSoGr8t  \n3        https://twitter.com/InalaBrisbane  \n4            https://twitter.com/teakalmia  \n...                                    ...  \n17610  https://twitter.com/ItCouldAlwaysB1  \n17611  https://twitter.com/theallinoneteam  \n17612    https://twitter.com/SundayEwolabi  \n17613     https://twitter.com/GorwayGlobal  \n17614    https://twitter.com/SundayEwolabi  \n\n[17615 rows x 23 columns]",
      "text/html": "<div>\n<style scoped>\n    .dataframe tbody tr th:only-of-type {\n        vertical-align: middle;\n    }\n\n    .dataframe tbody tr th {\n        vertical-align: top;\n    }\n\n    .dataframe thead th {\n        text-align: right;\n    }\n</style>\n<table border=\"1\" class=\"dataframe\">\n  <thead>\n    <tr style=\"text-align: right;\">\n      <th></th>\n      <th>_type</th>\n      <th>username</th>\n      <th>id</th>\n      <th>displayname</th>\n      <th>description</th>\n      <th>rawDescription</th>\n      <th>descriptionUrls</th>\n      <th>verified</th>\n      <th>created</th>\n      <th>followersCount</th>\n      <th>...</th>\n      <th>listedCount</th>\n      <th>mediaCount</th>\n      <th>location</th>\n      <th>protected</th>\n      <th>linkUrl</th>\n      <th>linkTcourl</th>\n      <th>profileImageUrl</th>\n      <th>profileBannerUrl</th>\n      <th>label</th>\n      <th>url</th>\n    </tr>\n  </thead>\n  <tbody>\n    <tr>\n      <th>0</th>\n      <td>snscrape.modules.twitter.User</td>\n      <td>KreugerDunning</td>\n      <td>1491647986123911168</td>\n      <td>Dunning Kruger</td>\n      <td>On an account suspended spree. \\n\\nGovernments...</td>\n      <td>On an account suspended spree. \\n\\nGovernments...</td>\n      <td>None</td>\n      <td>False</td>\n      <td>2022-02-10T05:39:38+00:00</td>\n      <td>15</td>\n      <td>...</td>\n      <td>1</td>\n      <td>92</td>\n      <td></td>\n      <td>False</td>\n      <td>None</td>\n      <td>None</td>\n      <td>https://pbs.twimg.com/profile_images/149466900...</td>\n      <td>https://pbs.twimg.com/profile_banners/14916479...</td>\n      <td>None</td>\n      <td>https://twitter.com/KreugerDunning</td>\n    </tr>\n    <tr>\n      <th>1</th>\n      <td>snscrape.modules.twitter.User</td>\n      <td>FarmSailing</td>\n      <td>1397779652949643271</td>\n      <td>Himalaya Sailing Vancouver Farm</td>\n      <td>Official Twitter Account of Himalaya Sailing F...</td>\n      <td>Official Twitter Account of Himalaya Sailing F...</td>\n      <td>None</td>\n      <td>False</td>\n      <td>2021-05-27T05:00:52+00:00</td>\n      <td>258</td>\n      <td>...</td>\n      <td>3</td>\n      <td>209</td>\n      <td></td>\n      <td>False</td>\n      <td>None</td>\n      <td>None</td>\n      <td>https://pbs.twimg.com/profile_images/145664910...</td>\n      <td>https://pbs.twimg.com/profile_banners/13977796...</td>\n      <td>None</td>\n      <td>https://twitter.com/FarmSailing</td>\n    </tr>\n    <tr>\n      <th>2</th>\n      <td>snscrape.modules.twitter.User</td>\n      <td>FeelingSoGr8t</td>\n      <td>1385002277736521731</td>\n      <td>Feelin'Gr8 WesternCulture ≠ ChristianCulture</td>\n      <td>Christian PharmD Flat-earther Vocalist  Natura...</td>\n      <td>Christian PharmD Flat-earther Vocalist  Natura...</td>\n      <td>None</td>\n      <td>False</td>\n      <td>2021-04-21T22:47:43+00:00</td>\n      <td>260</td>\n      <td>...</td>\n      <td>2</td>\n      <td>211</td>\n      <td>Flat Earth TN /Bayou Lafourche</td>\n      <td>False</td>\n      <td>None</td>\n      <td>None</td>\n      <td>https://pbs.twimg.com/profile_images/147952044...</td>\n      <td>https://pbs.twimg.com/profile_banners/13850022...</td>\n      <td>None</td>\n      <td>https://twitter.com/FeelingSoGr8t</td>\n    </tr>\n    <tr>\n      <th>3</th>\n      <td>snscrape.modules.twitter.User</td>\n      <td>InalaBrisbane</td>\n      <td>979707807111921664</td>\n      <td>William Ridley🌸</td>\n      <td>Inala, Brisbane, Australia 🇦🇺 🇺🇸🇬🇧 🇨🇦 🇹🇭 🇮🇱 It...</td>\n      <td>Inala, Brisbane, Australia 🇦🇺 🇺🇸🇬🇧 🇨🇦 🇹🇭 🇮🇱 It...</td>\n      <td>None</td>\n      <td>False</td>\n      <td>2018-03-30T13:11:58+00:00</td>\n      <td>2040</td>\n      <td>...</td>\n      <td>4</td>\n      <td>2456</td>\n      <td>Inala, Brisbane</td>\n      <td>False</td>\n      <td>None</td>\n      <td>None</td>\n      <td>https://pbs.twimg.com/profile_images/147606061...</td>\n      <td>https://pbs.twimg.com/profile_banners/97970780...</td>\n      <td>None</td>\n      <td>https://twitter.com/InalaBrisbane</td>\n    </tr>\n    <tr>\n      <th>4</th>\n      <td>snscrape.modules.twitter.User</td>\n      <td>teakalmia</td>\n      <td>331786486</td>\n      <td>Tea Kalmia</td>\n      <td>Blessed the Nation whose God is Yahushua (Jesu...</td>\n      <td>Blessed the Nation whose God is Yahushua (Jesu...</td>\n      <td>None</td>\n      <td>False</td>\n      <td>2011-07-08T18:23:38+00:00</td>\n      <td>198</td>\n      <td>...</td>\n      <td>0</td>\n      <td>1120</td>\n      <td>USA</td>\n      <td>False</td>\n      <td>None</td>\n      <td>None</td>\n      <td>https://pbs.twimg.com/profile_images/902215454...</td>\n      <td>None</td>\n      <td>None</td>\n      <td>https://twitter.com/teakalmia</td>\n    </tr>\n    <tr>\n      <th>...</th>\n      <td>...</td>\n      <td>...</td>\n      <td>...</td>\n      <td>...</td>\n      <td>...</td>\n      <td>...</td>\n      <td>...</td>\n      <td>...</td>\n      <td>...</td>\n      <td>...</td>\n      <td>...</td>\n      <td>...</td>\n      <td>...</td>\n      <td>...</td>\n      <td>...</td>\n      <td>...</td>\n      <td>...</td>\n      <td>...</td>\n      <td>...</td>\n      <td>...</td>\n      <td>...</td>\n    </tr>\n    <tr>\n      <th>17610</th>\n      <td>snscrape.modules.twitter.User</td>\n      <td>ItCouldAlwaysB1</td>\n      <td>1387196275402018817</td>\n      <td>It Could Always Be Worse, It Will Get Worse</td>\n      <td>Heavy Groovy Metal. God Bless and good luck!</td>\n      <td>Heavy Groovy Metal. God Bless and good luck!</td>\n      <td>None</td>\n      <td>False</td>\n      <td>2021-04-28T00:06:05+00:00</td>\n      <td>265</td>\n      <td>...</td>\n      <td>4</td>\n      <td>406</td>\n      <td>D.P.R.California</td>\n      <td>False</td>\n      <td>None</td>\n      <td>None</td>\n      <td>https://pbs.twimg.com/profile_images/138759546...</td>\n      <td>https://pbs.twimg.com/profile_banners/13871962...</td>\n      <td>None</td>\n      <td>https://twitter.com/ItCouldAlwaysB1</td>\n    </tr>\n    <tr>\n      <th>17611</th>\n      <td>snscrape.modules.twitter.User</td>\n      <td>theallinoneteam</td>\n      <td>462464578</td>\n      <td>The All in One Team↗</td>\n      <td>We are a group of like minded individuals #fre...</td>\n      <td>We are a group of like minded individuals #fre...</td>\n      <td>None</td>\n      <td>False</td>\n      <td>2012-01-13T00:05:12+00:00</td>\n      <td>3218</td>\n      <td>...</td>\n      <td>10</td>\n      <td>383</td>\n      <td>Yellowknife, NWT</td>\n      <td>False</td>\n      <td>https://vernoncoleman.org/videos/finally-medic...</td>\n      <td>https://t.co/BSrKz7luRF</td>\n      <td>https://pbs.twimg.com/profile_images/138932194...</td>\n      <td>https://pbs.twimg.com/profile_banners/46246457...</td>\n      <td>None</td>\n      <td>https://twitter.com/theallinoneteam</td>\n    </tr>\n    <tr>\n      <th>17612</th>\n      <td>snscrape.modules.twitter.User</td>\n      <td>SundayEwolabi</td>\n      <td>2944593299</td>\n      <td>sunday Najeriya ewolabi</td>\n      <td>I love Nigeria to the hilt.\\n🇳🇬🇳🇬</td>\n      <td>I love Nigeria to the hilt.\\n🇳🇬🇳🇬</td>\n      <td>None</td>\n      <td>False</td>\n      <td>2014-12-27T20:35:26+00:00</td>\n      <td>373</td>\n      <td>...</td>\n      <td>15</td>\n      <td>281</td>\n      <td>Nigeria</td>\n      <td>False</td>\n      <td>None</td>\n      <td>None</td>\n      <td>https://pbs.twimg.com/profile_images/148173447...</td>\n      <td>None</td>\n      <td>None</td>\n      <td>https://twitter.com/SundayEwolabi</td>\n    </tr>\n    <tr>\n      <th>17613</th>\n      <td>snscrape.modules.twitter.User</td>\n      <td>GorwayGlobal</td>\n      <td>326142866</td>\n      <td>JayEnAar</td>\n      <td>Public health physician. \\nArriving at the rig...</td>\n      <td>Public health physician. \\nArriving at the rig...</td>\n      <td>None</td>\n      <td>False</td>\n      <td>2011-06-29T13:01:40+00:00</td>\n      <td>8049</td>\n      <td>...</td>\n      <td>113</td>\n      <td>8100</td>\n      <td></td>\n      <td>False</td>\n      <td>https://muckrack.com/profile/portfolio</td>\n      <td>https://t.co/spgk2R1XkB</td>\n      <td>https://pbs.twimg.com/profile_images/101208784...</td>\n      <td>https://pbs.twimg.com/profile_banners/32614286...</td>\n      <td>None</td>\n      <td>https://twitter.com/GorwayGlobal</td>\n    </tr>\n    <tr>\n      <th>17614</th>\n      <td>snscrape.modules.twitter.User</td>\n      <td>SundayEwolabi</td>\n      <td>2944593299</td>\n      <td>sunday Najeriya ewolabi</td>\n      <td>I love Nigeria to the hilt.\\n🇳🇬🇳🇬</td>\n      <td>I love Nigeria to the hilt.\\n🇳🇬🇳🇬</td>\n      <td>None</td>\n      <td>False</td>\n      <td>2014-12-27T20:35:26+00:00</td>\n      <td>373</td>\n      <td>...</td>\n      <td>15</td>\n      <td>281</td>\n      <td>Nigeria</td>\n      <td>False</td>\n      <td>None</td>\n      <td>None</td>\n      <td>https://pbs.twimg.com/profile_images/148173447...</td>\n      <td>None</td>\n      <td>None</td>\n      <td>https://twitter.com/SundayEwolabi</td>\n    </tr>\n  </tbody>\n</table>\n<p>17615 rows × 23 columns</p>\n</div>"
     },
     "execution_count": 9,
     "metadata": {},
     "output_type": "execute_result"
    }
   ],
   "source": [
    "users = tweets['user'].tolist()\n",
    "users = pd.DataFrame(users)\n",
    "users"
   ],
   "metadata": {
    "collapsed": false,
    "pycharm": {
     "name": "#%%\n"
    }
   }
  },
  {
   "cell_type": "code",
   "execution_count": 10,
   "outputs": [
    {
     "data": {
      "text/plain": "                            username  \\\nid                                     \n1491647986123911168   KreugerDunning   \n1397779652949643271      FarmSailing   \n1385002277736521731    FeelingSoGr8t   \n979707807111921664     InalaBrisbane   \n331786486                  teakalmia   \n...                              ...   \n1430033430834814976    BrimstonedLLC   \n1387196275402018817  ItCouldAlwaysB1   \n462464578            theallinoneteam   \n2944593299             SundayEwolabi   \n326142866               GorwayGlobal   \n\n                                                           description  \\\nid                                                                       \n1491647986123911168  On an account suspended spree. \\n\\nGovernments...   \n1397779652949643271  Official Twitter Account of Himalaya Sailing F...   \n1385002277736521731  Christian PharmD Flat-earther Vocalist  Natura...   \n979707807111921664   Inala, Brisbane, Australia 🇦🇺 🇺🇸🇬🇧 🇨🇦 🇹🇭 🇮🇱 It...   \n331786486            Blessed the Nation whose God is Yahushua (Jesu...   \n...                                                                ...   \n1430033430834814976                      Peace and Love, or some shit.   \n1387196275402018817       Heavy Groovy Metal. God Bless and good luck!   \n462464578            We are a group of like minded individuals #fre...   \n2944593299                           I love Nigeria to the hilt.\\n🇳🇬🇳🇬   \n326142866            Public health physician. \\nArriving at the rig...   \n\n                    descriptionUrls  verified             created  \\\nid                                                                  \n1491647986123911168            None     False 2022-02-10 05:39:38   \n1397779652949643271            None     False 2021-05-27 05:00:52   \n1385002277736521731            None     False 2021-04-21 22:47:43   \n979707807111921664             None     False 2018-03-30 13:11:58   \n331786486                      None     False 2011-07-08 18:23:38   \n...                             ...       ...                 ...   \n1430033430834814976            None     False 2021-08-24 05:05:31   \n1387196275402018817            None     False 2021-04-28 00:06:05   \n462464578                      None     False 2012-01-13 00:05:12   \n2944593299                     None     False 2014-12-27 20:35:26   \n326142866                      None     False 2011-06-29 13:01:40   \n\n                     followersCount  friendsCount  statusesCount  \\\nid                                                                 \n1491647986123911168              15           143            588   \n1397779652949643271             258            76           2739   \n1385002277736521731             260           290           4062   \n979707807111921664             2040          2694           8514   \n331786486                       198          1006          22784   \n...                             ...           ...            ...   \n1430033430834814976             421           402           8215   \n1387196275402018817             265          1193           3712   \n462464578                      3218          3802           7055   \n2944593299                      373           178           8790   \n326142866                      8049          1937         111472   \n\n                     favouritesCount  listedCount  mediaCount  \\\nid                                                              \n1491647986123911168              865            1          92   \n1397779652949643271              239            3         209   \n1385002277736521731            16240            2         211   \n979707807111921664             11899            4        2456   \n331786486                        254            0        1120   \n...                              ...          ...         ...   \n1430033430834814976             5648            0        1248   \n1387196275402018817            16996            4         406   \n462464578                       2548           10         383   \n2944593299                     15529           15         281   \n326142866                      61441          113        8100   \n\n                                           location  protected  \\\nid                                                               \n1491647986123911168                                      False   \n1397779652949643271                                      False   \n1385002277736521731  Flat Earth TN /Bayou Lafourche      False   \n979707807111921664                  Inala, Brisbane      False   \n331786486                                       USA      False   \n...                                             ...        ...   \n1430033430834814976            Twitternment Camp 27      False   \n1387196275402018817                D.P.R.California      False   \n462464578                          Yellowknife, NWT      False   \n2944593299                                  Nigeria      False   \n326142866                                                False   \n\n                                                               linkUrl  \nid                                                                      \n1491647986123911168                                               None  \n1397779652949643271                                               None  \n1385002277736521731                                               None  \n979707807111921664                                                None  \n331786486                                                         None  \n...                                                                ...  \n1430033430834814976                                               None  \n1387196275402018817                                               None  \n462464578            https://vernoncoleman.org/videos/finally-medic...  \n2944593299                                                        None  \n326142866                       https://muckrack.com/profile/portfolio  \n\n[5643 rows x 14 columns]",
      "text/html": "<div>\n<style scoped>\n    .dataframe tbody tr th:only-of-type {\n        vertical-align: middle;\n    }\n\n    .dataframe tbody tr th {\n        vertical-align: top;\n    }\n\n    .dataframe thead th {\n        text-align: right;\n    }\n</style>\n<table border=\"1\" class=\"dataframe\">\n  <thead>\n    <tr style=\"text-align: right;\">\n      <th></th>\n      <th>username</th>\n      <th>description</th>\n      <th>descriptionUrls</th>\n      <th>verified</th>\n      <th>created</th>\n      <th>followersCount</th>\n      <th>friendsCount</th>\n      <th>statusesCount</th>\n      <th>favouritesCount</th>\n      <th>listedCount</th>\n      <th>mediaCount</th>\n      <th>location</th>\n      <th>protected</th>\n      <th>linkUrl</th>\n    </tr>\n    <tr>\n      <th>id</th>\n      <th></th>\n      <th></th>\n      <th></th>\n      <th></th>\n      <th></th>\n      <th></th>\n      <th></th>\n      <th></th>\n      <th></th>\n      <th></th>\n      <th></th>\n      <th></th>\n      <th></th>\n      <th></th>\n    </tr>\n  </thead>\n  <tbody>\n    <tr>\n      <th>1491647986123911168</th>\n      <td>KreugerDunning</td>\n      <td>On an account suspended spree. \\n\\nGovernments...</td>\n      <td>None</td>\n      <td>False</td>\n      <td>2022-02-10 05:39:38</td>\n      <td>15</td>\n      <td>143</td>\n      <td>588</td>\n      <td>865</td>\n      <td>1</td>\n      <td>92</td>\n      <td></td>\n      <td>False</td>\n      <td>None</td>\n    </tr>\n    <tr>\n      <th>1397779652949643271</th>\n      <td>FarmSailing</td>\n      <td>Official Twitter Account of Himalaya Sailing F...</td>\n      <td>None</td>\n      <td>False</td>\n      <td>2021-05-27 05:00:52</td>\n      <td>258</td>\n      <td>76</td>\n      <td>2739</td>\n      <td>239</td>\n      <td>3</td>\n      <td>209</td>\n      <td></td>\n      <td>False</td>\n      <td>None</td>\n    </tr>\n    <tr>\n      <th>1385002277736521731</th>\n      <td>FeelingSoGr8t</td>\n      <td>Christian PharmD Flat-earther Vocalist  Natura...</td>\n      <td>None</td>\n      <td>False</td>\n      <td>2021-04-21 22:47:43</td>\n      <td>260</td>\n      <td>290</td>\n      <td>4062</td>\n      <td>16240</td>\n      <td>2</td>\n      <td>211</td>\n      <td>Flat Earth TN /Bayou Lafourche</td>\n      <td>False</td>\n      <td>None</td>\n    </tr>\n    <tr>\n      <th>979707807111921664</th>\n      <td>InalaBrisbane</td>\n      <td>Inala, Brisbane, Australia 🇦🇺 🇺🇸🇬🇧 🇨🇦 🇹🇭 🇮🇱 It...</td>\n      <td>None</td>\n      <td>False</td>\n      <td>2018-03-30 13:11:58</td>\n      <td>2040</td>\n      <td>2694</td>\n      <td>8514</td>\n      <td>11899</td>\n      <td>4</td>\n      <td>2456</td>\n      <td>Inala, Brisbane</td>\n      <td>False</td>\n      <td>None</td>\n    </tr>\n    <tr>\n      <th>331786486</th>\n      <td>teakalmia</td>\n      <td>Blessed the Nation whose God is Yahushua (Jesu...</td>\n      <td>None</td>\n      <td>False</td>\n      <td>2011-07-08 18:23:38</td>\n      <td>198</td>\n      <td>1006</td>\n      <td>22784</td>\n      <td>254</td>\n      <td>0</td>\n      <td>1120</td>\n      <td>USA</td>\n      <td>False</td>\n      <td>None</td>\n    </tr>\n    <tr>\n      <th>...</th>\n      <td>...</td>\n      <td>...</td>\n      <td>...</td>\n      <td>...</td>\n      <td>...</td>\n      <td>...</td>\n      <td>...</td>\n      <td>...</td>\n      <td>...</td>\n      <td>...</td>\n      <td>...</td>\n      <td>...</td>\n      <td>...</td>\n      <td>...</td>\n    </tr>\n    <tr>\n      <th>1430033430834814976</th>\n      <td>BrimstonedLLC</td>\n      <td>Peace and Love, or some shit.</td>\n      <td>None</td>\n      <td>False</td>\n      <td>2021-08-24 05:05:31</td>\n      <td>421</td>\n      <td>402</td>\n      <td>8215</td>\n      <td>5648</td>\n      <td>0</td>\n      <td>1248</td>\n      <td>Twitternment Camp 27</td>\n      <td>False</td>\n      <td>None</td>\n    </tr>\n    <tr>\n      <th>1387196275402018817</th>\n      <td>ItCouldAlwaysB1</td>\n      <td>Heavy Groovy Metal. God Bless and good luck!</td>\n      <td>None</td>\n      <td>False</td>\n      <td>2021-04-28 00:06:05</td>\n      <td>265</td>\n      <td>1193</td>\n      <td>3712</td>\n      <td>16996</td>\n      <td>4</td>\n      <td>406</td>\n      <td>D.P.R.California</td>\n      <td>False</td>\n      <td>None</td>\n    </tr>\n    <tr>\n      <th>462464578</th>\n      <td>theallinoneteam</td>\n      <td>We are a group of like minded individuals #fre...</td>\n      <td>None</td>\n      <td>False</td>\n      <td>2012-01-13 00:05:12</td>\n      <td>3218</td>\n      <td>3802</td>\n      <td>7055</td>\n      <td>2548</td>\n      <td>10</td>\n      <td>383</td>\n      <td>Yellowknife, NWT</td>\n      <td>False</td>\n      <td>https://vernoncoleman.org/videos/finally-medic...</td>\n    </tr>\n    <tr>\n      <th>2944593299</th>\n      <td>SundayEwolabi</td>\n      <td>I love Nigeria to the hilt.\\n🇳🇬🇳🇬</td>\n      <td>None</td>\n      <td>False</td>\n      <td>2014-12-27 20:35:26</td>\n      <td>373</td>\n      <td>178</td>\n      <td>8790</td>\n      <td>15529</td>\n      <td>15</td>\n      <td>281</td>\n      <td>Nigeria</td>\n      <td>False</td>\n      <td>None</td>\n    </tr>\n    <tr>\n      <th>326142866</th>\n      <td>GorwayGlobal</td>\n      <td>Public health physician. \\nArriving at the rig...</td>\n      <td>None</td>\n      <td>False</td>\n      <td>2011-06-29 13:01:40</td>\n      <td>8049</td>\n      <td>1937</td>\n      <td>111472</td>\n      <td>61441</td>\n      <td>113</td>\n      <td>8100</td>\n      <td></td>\n      <td>False</td>\n      <td>https://muckrack.com/profile/portfolio</td>\n    </tr>\n  </tbody>\n</table>\n<p>5643 rows × 14 columns</p>\n</div>"
     },
     "execution_count": 10,
     "metadata": {},
     "output_type": "execute_result"
    }
   ],
   "source": [
    "# Drop columns that contain useless information\n",
    "columns_to_drop = ['_type', 'displayname', 'rawDescription', 'linkTcourl', 'profileImageUrl', 'profileBannerUrl', 'label', 'url']\n",
    "users = users.drop(columns=columns_to_drop)\n",
    "\n",
    "# Replace 'user' column in Tweets with userIds\n",
    "users['id'] = users['id'].map(str)\n",
    "tweets['user'] = users['id'].values\n",
    "tweets = tweets.rename(columns={'user': 'userId'})\n",
    "\n",
    "# Drop duplicate users\n",
    "users = users.drop_duplicates(subset='id')\n",
    "\n",
    "# Use user ID to identify data entries\n",
    "users = users.set_index('id')\n",
    "\n",
    "# The \"+00:00\" in entries in the 'created' column indicate the UTC timezone. It looks ugly, so let's remove it.\n",
    "users['created'] = pd.to_datetime(users['created'])\n",
    "users['created'] = users['created'].dt.tz_localize(None)\n",
    "\n",
    "# Fix column 'descriptionUrls'\n",
    "replacement = []\n",
    "\n",
    "for entry in users['descriptionUrls']:\n",
    "    urls = 'None'\n",
    "    if entry is not None:\n",
    "        urls = []\n",
    "        for url in entry:\n",
    "            urls.append(url['url'])\n",
    "    replacement.append(urls)\n",
    "\n",
    "users['descriptionUrls'] = replacement\n",
    "\n",
    "users"
   ],
   "metadata": {
    "collapsed": false,
    "pycharm": {
     "name": "#%%\n"
    }
   }
  },
  {
   "cell_type": "code",
   "execution_count": 11,
   "outputs": [
    {
     "data": {
      "text/plain": "                                   date  \\\nid                                        \n1495547672547278856 2022-02-20 23:55:25   \n1495474680924418052 2022-02-20 19:05:23   \n1495388918694428674 2022-02-20 13:24:35   \n1495367652478369793 2022-02-20 12:00:05   \n1495150560504430600 2022-02-19 21:37:26   \n...                                 ...   \n1447955338460745733 2021-10-12 16:00:29   \n1378822981112229889 2021-04-04 21:33:10   \n1332767287154241542 2020-11-28 19:24:17   \n1332035503072419843 2020-11-26 18:56:26   \n1294757678598815744 2020-08-15 22:07:40   \n\n                                                               content  \\\nid                                                                       \n1495547672547278856  @nilikm LOOOL sais the weirdo with a mask in h...   \n1495474680924418052  “Israel had been a early trailblazer of a nati...   \n1495388918694428674         https://t.co/Qei7wpaNj9  \\n\\n#vaccineskill   \n1495367652478369793  Terrific interview by @mariaaazeee with @DowdE...   \n1495150560504430600  #TruckersForFreedom2022  #VaccinesKill https:/...   \n...                                                                ...   \n1447955338460745733  VAIDS = Vaccine Acquired Immune Deficiency Syn...   \n1378822981112229889  Maybe a new illness will be created? VAIDS!  V...   \n1332767287154241542  @richy_os @Johannxs @HMKemiAdeosun The selfish...   \n1332035503072419843  What if India's Drug regulator, @CDSCO_INDIA_I...   \n1294757678598815744  @yinkanubi This tweet is loaded with a lot of ...   \n\n                                  userId  replyCount  retweetCount  likeCount  \\\nid                                                                              \n1495547672547278856  1491647986123911168           0             0          0   \n1495474680924418052  1397779652949643271           0            16         15   \n1495388918694428674  1385002277736521731           0             0          0   \n1495367652478369793   979707807111921664           1             1          7   \n1495150560504430600            331786486           0             0          0   \n...                                  ...         ...           ...        ...   \n1447955338460745733  1387196275402018817           0             1          3   \n1378822981112229889            462464578           0             0          0   \n1332767287154241542           2944593299           1             0          3   \n1332035503072419843            326142866           1             0          1   \n1294757678598815744           2944593299           0             0          1   \n\n                     quoteCount     lang          sourceLabel  \\\nid                                                              \n1495547672547278856           0  English  Twitter for Android   \n1495474680924418052           0  English      Twitter Web App   \n1495388918694428674           0  Unknown   Twitter for iPhone   \n1495367652478369793           0  English   Twitter for iPhone   \n1495150560504430600           0  Unknown      Twitter Web App   \n...                         ...      ...                  ...   \n1447955338460745733           0  English      Twitter Web App   \n1378822981112229889           0  English      Twitter Web App   \n1332767287154241542           0  English  Twitter for Android   \n1332035503072419843           1  English      Twitter Web App   \n1294757678598815744           0  English  Twitter for Android   \n\n                                                              outlinks media  \\\nid                                                                             \n1495547672547278856                                               None  None   \n1495474680924418052  [https://insiderpaper.com/israel-pm-announces-...  None   \n1495388918694428674  [https://www.instagram.com/tv/CaH0tj8Adta/?utm...  None   \n1495367652478369793  [https://zeeemedia.com/interview/edward-dowd-f...  None   \n1495150560504430600  [https://twitter.com/teakalmia/status/14951497...  None   \n...                                                                ...   ...   \n1447955338460745733                                               None  None   \n1378822981112229889                                               None  None   \n1332767287154241542                                               None  None   \n1332035503072419843  [https://twitter.com/das_seed/status/132731980...  None   \n1294757678598815744                                               None  None   \n\n                     retweetedTweet  \\\nid                                    \n1495547672547278856             NaN   \n1495474680924418052             NaN   \n1495388918694428674             NaN   \n1495367652478369793             NaN   \n1495150560504430600             NaN   \n...                             ...   \n1447955338460745733             NaN   \n1378822981112229889             NaN   \n1332767287154241542             NaN   \n1332035503072419843             NaN   \n1294757678598815744             NaN   \n\n                                                           quotedTweet  \\\nid                                                                       \n1495547672547278856                                               None   \n1495474680924418052                                               None   \n1495388918694428674                                               None   \n1495367652478369793                                               None   \n1495150560504430600  {'_type': 'snscrape.modules.twitter.Tweet', 'u...   \n...                                                                ...   \n1447955338460745733                                               None   \n1378822981112229889                                               None   \n1332767287154241542                                               None   \n1332035503072419843  {'_type': 'snscrape.modules.twitter.Tweet', 'u...   \n1294757678598815744                                               None   \n\n                     inReplyToTweetId  \\\nid                                      \n1495547672547278856      1.495477e+18   \n1495474680924418052               NaN   \n1495388918694428674               NaN   \n1495367652478369793               NaN   \n1495150560504430600               NaN   \n...                               ...   \n1447955338460745733               NaN   \n1378822981112229889               NaN   \n1332767287154241542      1.332700e+18   \n1332035503072419843               NaN   \n1294757678598815744      1.294558e+18   \n\n                                                         inReplyToUser  \\\nid                                                                       \n1495547672547278856  {'_type': 'snscrape.modules.twitter.User', 'us...   \n1495474680924418052                                               None   \n1495388918694428674                                               None   \n1495367652478369793                                               None   \n1495150560504430600                                               None   \n...                                                                ...   \n1447955338460745733                                               None   \n1378822981112229889                                               None   \n1332767287154241542  {'_type': 'snscrape.modules.twitter.User', 'us...   \n1332035503072419843                                               None   \n1294757678598815744  {'_type': 'snscrape.modules.twitter.User', 'us...   \n\n                                                        mentionedUsers place  \\\nid                                                                             \n1495547672547278856  [{'_type': 'snscrape.modules.twitter.User', 'u...  None   \n1495474680924418052                                               None  None   \n1495388918694428674                                               None  None   \n1495367652478369793  [{'_type': 'snscrape.modules.twitter.User', 'u...  None   \n1495150560504430600                                               None  None   \n...                                                                ...   ...   \n1447955338460745733                                               None  None   \n1378822981112229889                                               None  None   \n1332767287154241542  [{'_type': 'snscrape.modules.twitter.User', 'u...  None   \n1332035503072419843  [{'_type': 'snscrape.modules.twitter.User', 'u...  None   \n1294757678598815744  [{'_type': 'snscrape.modules.twitter.User', 'u...  None   \n\n                                                              hashtags  \nid                                                                      \n1495547672547278856        [CovidIsOver, TrudeauTyranny, VaccinesKill]  \n1495474680924418052  [ccpvirus, vaccineskill, novaccinemandates, wh...  \n1495388918694428674                                     [vaccineskill]  \n1495367652478369793  [vaccineinjuries, HoldtheLine, PfizerFraud, Va...  \n1495150560504430600             [TruckersForFreedom2022, VaccinesKill]  \n...                                                                ...  \n1447955338460745733                                            [VAIDS]  \n1378822981112229889                                            [VAIDS]  \n1332767287154241542                                            [VAIDS]  \n1332035503072419843                                            [Vaids]  \n1294757678598815744                                            [VAIDS]  \n\n[17615 rows x 18 columns]",
      "text/html": "<div>\n<style scoped>\n    .dataframe tbody tr th:only-of-type {\n        vertical-align: middle;\n    }\n\n    .dataframe tbody tr th {\n        vertical-align: top;\n    }\n\n    .dataframe thead th {\n        text-align: right;\n    }\n</style>\n<table border=\"1\" class=\"dataframe\">\n  <thead>\n    <tr style=\"text-align: right;\">\n      <th></th>\n      <th>date</th>\n      <th>content</th>\n      <th>userId</th>\n      <th>replyCount</th>\n      <th>retweetCount</th>\n      <th>likeCount</th>\n      <th>quoteCount</th>\n      <th>lang</th>\n      <th>sourceLabel</th>\n      <th>outlinks</th>\n      <th>media</th>\n      <th>retweetedTweet</th>\n      <th>quotedTweet</th>\n      <th>inReplyToTweetId</th>\n      <th>inReplyToUser</th>\n      <th>mentionedUsers</th>\n      <th>place</th>\n      <th>hashtags</th>\n    </tr>\n    <tr>\n      <th>id</th>\n      <th></th>\n      <th></th>\n      <th></th>\n      <th></th>\n      <th></th>\n      <th></th>\n      <th></th>\n      <th></th>\n      <th></th>\n      <th></th>\n      <th></th>\n      <th></th>\n      <th></th>\n      <th></th>\n      <th></th>\n      <th></th>\n      <th></th>\n      <th></th>\n    </tr>\n  </thead>\n  <tbody>\n    <tr>\n      <th>1495547672547278856</th>\n      <td>2022-02-20 23:55:25</td>\n      <td>@nilikm LOOOL sais the weirdo with a mask in h...</td>\n      <td>1491647986123911168</td>\n      <td>0</td>\n      <td>0</td>\n      <td>0</td>\n      <td>0</td>\n      <td>English</td>\n      <td>Twitter for Android</td>\n      <td>None</td>\n      <td>None</td>\n      <td>NaN</td>\n      <td>None</td>\n      <td>1.495477e+18</td>\n      <td>{'_type': 'snscrape.modules.twitter.User', 'us...</td>\n      <td>[{'_type': 'snscrape.modules.twitter.User', 'u...</td>\n      <td>None</td>\n      <td>[CovidIsOver, TrudeauTyranny, VaccinesKill]</td>\n    </tr>\n    <tr>\n      <th>1495474680924418052</th>\n      <td>2022-02-20 19:05:23</td>\n      <td>“Israel had been a early trailblazer of a nati...</td>\n      <td>1397779652949643271</td>\n      <td>0</td>\n      <td>16</td>\n      <td>15</td>\n      <td>0</td>\n      <td>English</td>\n      <td>Twitter Web App</td>\n      <td>[https://insiderpaper.com/israel-pm-announces-...</td>\n      <td>None</td>\n      <td>NaN</td>\n      <td>None</td>\n      <td>NaN</td>\n      <td>None</td>\n      <td>None</td>\n      <td>None</td>\n      <td>[ccpvirus, vaccineskill, novaccinemandates, wh...</td>\n    </tr>\n    <tr>\n      <th>1495388918694428674</th>\n      <td>2022-02-20 13:24:35</td>\n      <td>https://t.co/Qei7wpaNj9  \\n\\n#vaccineskill</td>\n      <td>1385002277736521731</td>\n      <td>0</td>\n      <td>0</td>\n      <td>0</td>\n      <td>0</td>\n      <td>Unknown</td>\n      <td>Twitter for iPhone</td>\n      <td>[https://www.instagram.com/tv/CaH0tj8Adta/?utm...</td>\n      <td>None</td>\n      <td>NaN</td>\n      <td>None</td>\n      <td>NaN</td>\n      <td>None</td>\n      <td>None</td>\n      <td>None</td>\n      <td>[vaccineskill]</td>\n    </tr>\n    <tr>\n      <th>1495367652478369793</th>\n      <td>2022-02-20 12:00:05</td>\n      <td>Terrific interview by @mariaaazeee with @DowdE...</td>\n      <td>979707807111921664</td>\n      <td>1</td>\n      <td>1</td>\n      <td>7</td>\n      <td>0</td>\n      <td>English</td>\n      <td>Twitter for iPhone</td>\n      <td>[https://zeeemedia.com/interview/edward-dowd-f...</td>\n      <td>None</td>\n      <td>NaN</td>\n      <td>None</td>\n      <td>NaN</td>\n      <td>None</td>\n      <td>[{'_type': 'snscrape.modules.twitter.User', 'u...</td>\n      <td>None</td>\n      <td>[vaccineinjuries, HoldtheLine, PfizerFraud, Va...</td>\n    </tr>\n    <tr>\n      <th>1495150560504430600</th>\n      <td>2022-02-19 21:37:26</td>\n      <td>#TruckersForFreedom2022  #VaccinesKill https:/...</td>\n      <td>331786486</td>\n      <td>0</td>\n      <td>0</td>\n      <td>0</td>\n      <td>0</td>\n      <td>Unknown</td>\n      <td>Twitter Web App</td>\n      <td>[https://twitter.com/teakalmia/status/14951497...</td>\n      <td>None</td>\n      <td>NaN</td>\n      <td>{'_type': 'snscrape.modules.twitter.Tweet', 'u...</td>\n      <td>NaN</td>\n      <td>None</td>\n      <td>None</td>\n      <td>None</td>\n      <td>[TruckersForFreedom2022, VaccinesKill]</td>\n    </tr>\n    <tr>\n      <th>...</th>\n      <td>...</td>\n      <td>...</td>\n      <td>...</td>\n      <td>...</td>\n      <td>...</td>\n      <td>...</td>\n      <td>...</td>\n      <td>...</td>\n      <td>...</td>\n      <td>...</td>\n      <td>...</td>\n      <td>...</td>\n      <td>...</td>\n      <td>...</td>\n      <td>...</td>\n      <td>...</td>\n      <td>...</td>\n      <td>...</td>\n    </tr>\n    <tr>\n      <th>1447955338460745733</th>\n      <td>2021-10-12 16:00:29</td>\n      <td>VAIDS = Vaccine Acquired Immune Deficiency Syn...</td>\n      <td>1387196275402018817</td>\n      <td>0</td>\n      <td>1</td>\n      <td>3</td>\n      <td>0</td>\n      <td>English</td>\n      <td>Twitter Web App</td>\n      <td>None</td>\n      <td>None</td>\n      <td>NaN</td>\n      <td>None</td>\n      <td>NaN</td>\n      <td>None</td>\n      <td>None</td>\n      <td>None</td>\n      <td>[VAIDS]</td>\n    </tr>\n    <tr>\n      <th>1378822981112229889</th>\n      <td>2021-04-04 21:33:10</td>\n      <td>Maybe a new illness will be created? VAIDS!  V...</td>\n      <td>462464578</td>\n      <td>0</td>\n      <td>0</td>\n      <td>0</td>\n      <td>0</td>\n      <td>English</td>\n      <td>Twitter Web App</td>\n      <td>None</td>\n      <td>None</td>\n      <td>NaN</td>\n      <td>None</td>\n      <td>NaN</td>\n      <td>None</td>\n      <td>None</td>\n      <td>None</td>\n      <td>[VAIDS]</td>\n    </tr>\n    <tr>\n      <th>1332767287154241542</th>\n      <td>2020-11-28 19:24:17</td>\n      <td>@richy_os @Johannxs @HMKemiAdeosun The selfish...</td>\n      <td>2944593299</td>\n      <td>1</td>\n      <td>0</td>\n      <td>3</td>\n      <td>0</td>\n      <td>English</td>\n      <td>Twitter for Android</td>\n      <td>None</td>\n      <td>None</td>\n      <td>NaN</td>\n      <td>None</td>\n      <td>1.332700e+18</td>\n      <td>{'_type': 'snscrape.modules.twitter.User', 'us...</td>\n      <td>[{'_type': 'snscrape.modules.twitter.User', 'u...</td>\n      <td>None</td>\n      <td>[VAIDS]</td>\n    </tr>\n    <tr>\n      <th>1332035503072419843</th>\n      <td>2020-11-26 18:56:26</td>\n      <td>What if India's Drug regulator, @CDSCO_INDIA_I...</td>\n      <td>326142866</td>\n      <td>1</td>\n      <td>0</td>\n      <td>1</td>\n      <td>1</td>\n      <td>English</td>\n      <td>Twitter Web App</td>\n      <td>[https://twitter.com/das_seed/status/132731980...</td>\n      <td>None</td>\n      <td>NaN</td>\n      <td>{'_type': 'snscrape.modules.twitter.Tweet', 'u...</td>\n      <td>NaN</td>\n      <td>None</td>\n      <td>[{'_type': 'snscrape.modules.twitter.User', 'u...</td>\n      <td>None</td>\n      <td>[Vaids]</td>\n    </tr>\n    <tr>\n      <th>1294757678598815744</th>\n      <td>2020-08-15 22:07:40</td>\n      <td>@yinkanubi This tweet is loaded with a lot of ...</td>\n      <td>2944593299</td>\n      <td>0</td>\n      <td>0</td>\n      <td>1</td>\n      <td>0</td>\n      <td>English</td>\n      <td>Twitter for Android</td>\n      <td>None</td>\n      <td>None</td>\n      <td>NaN</td>\n      <td>None</td>\n      <td>1.294558e+18</td>\n      <td>{'_type': 'snscrape.modules.twitter.User', 'us...</td>\n      <td>[{'_type': 'snscrape.modules.twitter.User', 'u...</td>\n      <td>None</td>\n      <td>[VAIDS]</td>\n    </tr>\n  </tbody>\n</table>\n<p>17615 rows × 18 columns</p>\n</div>"
     },
     "execution_count": 11,
     "metadata": {},
     "output_type": "execute_result"
    }
   ],
   "source": [
    "tweets"
   ],
   "metadata": {
    "collapsed": false,
    "pycharm": {
     "name": "#%%\n"
    }
   }
  },
  {
   "cell_type": "code",
   "execution_count": 12,
   "outputs": [],
   "source": [
    "# Fix column 'outlinks'\n",
    "replacement = []\n",
    "\n",
    "for outlink in tweets['outlinks']:\n",
    "    link = 'None'\n",
    "    if outlink is not None:\n",
    "        link = outlink[0]\n",
    "    replacement.append(link)\n",
    "\n",
    "tweets['outlinks'] = replacement"
   ],
   "metadata": {
    "collapsed": false,
    "pycharm": {
     "name": "#%%\n"
    }
   }
  },
  {
   "cell_type": "code",
   "execution_count": 13,
   "outputs": [
    {
     "data": {
      "text/plain": "array([nan])"
     },
     "execution_count": 13,
     "metadata": {},
     "output_type": "execute_result"
    }
   ],
   "source": [
    "tweets['retweetedTweet'].unique()"
   ],
   "metadata": {
    "collapsed": false,
    "pycharm": {
     "name": "#%%\n"
    }
   }
  },
  {
   "cell_type": "code",
   "execution_count": 14,
   "outputs": [
    {
     "data": {
      "text/plain": "                                   date  \\\nid                                        \n1495547672547278856 2022-02-20 23:55:25   \n1495474680924418052 2022-02-20 19:05:23   \n1495388918694428674 2022-02-20 13:24:35   \n1495367652478369793 2022-02-20 12:00:05   \n1495150560504430600 2022-02-19 21:37:26   \n...                                 ...   \n1447955338460745733 2021-10-12 16:00:29   \n1378822981112229889 2021-04-04 21:33:10   \n1332767287154241542 2020-11-28 19:24:17   \n1332035503072419843 2020-11-26 18:56:26   \n1294757678598815744 2020-08-15 22:07:40   \n\n                                                               content  \\\nid                                                                       \n1495547672547278856  @nilikm LOOOL sais the weirdo with a mask in h...   \n1495474680924418052  “Israel had been a early trailblazer of a nati...   \n1495388918694428674         https://t.co/Qei7wpaNj9  \\n\\n#vaccineskill   \n1495367652478369793  Terrific interview by @mariaaazeee with @DowdE...   \n1495150560504430600  #TruckersForFreedom2022  #VaccinesKill https:/...   \n...                                                                ...   \n1447955338460745733  VAIDS = Vaccine Acquired Immune Deficiency Syn...   \n1378822981112229889  Maybe a new illness will be created? VAIDS!  V...   \n1332767287154241542  @richy_os @Johannxs @HMKemiAdeosun The selfish...   \n1332035503072419843  What if India's Drug regulator, @CDSCO_INDIA_I...   \n1294757678598815744  @yinkanubi This tweet is loaded with a lot of ...   \n\n                                  userId  replyCount  retweetCount  likeCount  \\\nid                                                                              \n1495547672547278856  1491647986123911168           0             0          0   \n1495474680924418052  1397779652949643271           0            16         15   \n1495388918694428674  1385002277736521731           0             0          0   \n1495367652478369793   979707807111921664           1             1          7   \n1495150560504430600            331786486           0             0          0   \n...                                  ...         ...           ...        ...   \n1447955338460745733  1387196275402018817           0             1          3   \n1378822981112229889            462464578           0             0          0   \n1332767287154241542           2944593299           1             0          3   \n1332035503072419843            326142866           1             0          1   \n1294757678598815744           2944593299           0             0          1   \n\n                     quoteCount     lang          sourceLabel  \\\nid                                                              \n1495547672547278856           0  English  Twitter for Android   \n1495474680924418052           0  English      Twitter Web App   \n1495388918694428674           0  Unknown   Twitter for iPhone   \n1495367652478369793           0  English   Twitter for iPhone   \n1495150560504430600           0  Unknown      Twitter Web App   \n...                         ...      ...                  ...   \n1447955338460745733           0  English      Twitter Web App   \n1378822981112229889           0  English      Twitter Web App   \n1332767287154241542           0  English  Twitter for Android   \n1332035503072419843           1  English      Twitter Web App   \n1294757678598815744           0  English  Twitter for Android   \n\n                                                              outlinks  \\\nid                                                                       \n1495547672547278856                                               None   \n1495474680924418052  https://insiderpaper.com/israel-pm-announces-e...   \n1495388918694428674  https://www.instagram.com/tv/CaH0tj8Adta/?utm_...   \n1495367652478369793  https://zeeemedia.com/interview/edward-dowd-fo...   \n1495150560504430600  https://twitter.com/teakalmia/status/149514975...   \n...                                                                ...   \n1447955338460745733                                               None   \n1378822981112229889                                               None   \n1332767287154241542                                               None   \n1332035503072419843  https://twitter.com/das_seed/status/1327319807...   \n1294757678598815744                                               None   \n\n                     containsMedia         quoteTweetId     inReplyToTweetId  \\\nid                                                                             \n1495547672547278856          False                 None  1495477036730793984   \n1495474680924418052          False                 None                 None   \n1495388918694428674          False                 None                 None   \n1495367652478369793          False                 None                 None   \n1495150560504430600          False  1495149758012395533                 None   \n...                            ...                  ...                  ...   \n1447955338460745733          False                 None                 None   \n1378822981112229889          False                 None                 None   \n1332767287154241542          False                 None  1332699553087229952   \n1332035503072419843          False  1327319807516172296                 None   \n1294757678598815744          False                 None  1294558115896205312   \n\n                    inReplyToUserId  \\\nid                                    \n1495547672547278856       155930120   \n1495474680924418052            None   \n1495388918694428674            None   \n1495367652478369793            None   \n1495150560504430600            None   \n...                             ...   \n1447955338460745733            None   \n1378822981112229889            None   \n1332767287154241542       700732560   \n1332035503072419843            None   \n1294757678598815744        47572601   \n\n                                                 mentionedUserIds country  \\\nid                                                                          \n1495547672547278856                                   [155930120]    None   \n1495474680924418052                                          None    None   \n1495388918694428674                                          None    None   \n1495367652478369793             [1432287790541144066, 1570180292]    None   \n1495150560504430600                                          None    None   \n...                                                           ...     ...   \n1447955338460745733                                          None    None   \n1378822981112229889                                          None    None   \n1332767287154241542     [700732560, 78625783, 847719571129720832]    None   \n1332035503072419843  [818519312684224513, 2650295678, 2596143056]    None   \n1294757678598815744                                    [47572601]    None   \n\n                                                              hashtags  \nid                                                                      \n1495547672547278856        [CovidIsOver, TrudeauTyranny, VaccinesKill]  \n1495474680924418052  [ccpvirus, vaccineskill, novaccinemandates, wh...  \n1495388918694428674                                     [vaccineskill]  \n1495367652478369793  [vaccineinjuries, HoldtheLine, PfizerFraud, Va...  \n1495150560504430600             [TruckersForFreedom2022, VaccinesKill]  \n...                                                                ...  \n1447955338460745733                                            [VAIDS]  \n1378822981112229889                                            [VAIDS]  \n1332767287154241542                                            [VAIDS]  \n1332035503072419843                                            [Vaids]  \n1294757678598815744                                            [VAIDS]  \n\n[17615 rows x 17 columns]",
      "text/html": "<div>\n<style scoped>\n    .dataframe tbody tr th:only-of-type {\n        vertical-align: middle;\n    }\n\n    .dataframe tbody tr th {\n        vertical-align: top;\n    }\n\n    .dataframe thead th {\n        text-align: right;\n    }\n</style>\n<table border=\"1\" class=\"dataframe\">\n  <thead>\n    <tr style=\"text-align: right;\">\n      <th></th>\n      <th>date</th>\n      <th>content</th>\n      <th>userId</th>\n      <th>replyCount</th>\n      <th>retweetCount</th>\n      <th>likeCount</th>\n      <th>quoteCount</th>\n      <th>lang</th>\n      <th>sourceLabel</th>\n      <th>outlinks</th>\n      <th>containsMedia</th>\n      <th>quoteTweetId</th>\n      <th>inReplyToTweetId</th>\n      <th>inReplyToUserId</th>\n      <th>mentionedUserIds</th>\n      <th>country</th>\n      <th>hashtags</th>\n    </tr>\n    <tr>\n      <th>id</th>\n      <th></th>\n      <th></th>\n      <th></th>\n      <th></th>\n      <th></th>\n      <th></th>\n      <th></th>\n      <th></th>\n      <th></th>\n      <th></th>\n      <th></th>\n      <th></th>\n      <th></th>\n      <th></th>\n      <th></th>\n      <th></th>\n      <th></th>\n    </tr>\n  </thead>\n  <tbody>\n    <tr>\n      <th>1495547672547278856</th>\n      <td>2022-02-20 23:55:25</td>\n      <td>@nilikm LOOOL sais the weirdo with a mask in h...</td>\n      <td>1491647986123911168</td>\n      <td>0</td>\n      <td>0</td>\n      <td>0</td>\n      <td>0</td>\n      <td>English</td>\n      <td>Twitter for Android</td>\n      <td>None</td>\n      <td>False</td>\n      <td>None</td>\n      <td>1495477036730793984</td>\n      <td>155930120</td>\n      <td>[155930120]</td>\n      <td>None</td>\n      <td>[CovidIsOver, TrudeauTyranny, VaccinesKill]</td>\n    </tr>\n    <tr>\n      <th>1495474680924418052</th>\n      <td>2022-02-20 19:05:23</td>\n      <td>“Israel had been a early trailblazer of a nati...</td>\n      <td>1397779652949643271</td>\n      <td>0</td>\n      <td>16</td>\n      <td>15</td>\n      <td>0</td>\n      <td>English</td>\n      <td>Twitter Web App</td>\n      <td>https://insiderpaper.com/israel-pm-announces-e...</td>\n      <td>False</td>\n      <td>None</td>\n      <td>None</td>\n      <td>None</td>\n      <td>None</td>\n      <td>None</td>\n      <td>[ccpvirus, vaccineskill, novaccinemandates, wh...</td>\n    </tr>\n    <tr>\n      <th>1495388918694428674</th>\n      <td>2022-02-20 13:24:35</td>\n      <td>https://t.co/Qei7wpaNj9  \\n\\n#vaccineskill</td>\n      <td>1385002277736521731</td>\n      <td>0</td>\n      <td>0</td>\n      <td>0</td>\n      <td>0</td>\n      <td>Unknown</td>\n      <td>Twitter for iPhone</td>\n      <td>https://www.instagram.com/tv/CaH0tj8Adta/?utm_...</td>\n      <td>False</td>\n      <td>None</td>\n      <td>None</td>\n      <td>None</td>\n      <td>None</td>\n      <td>None</td>\n      <td>[vaccineskill]</td>\n    </tr>\n    <tr>\n      <th>1495367652478369793</th>\n      <td>2022-02-20 12:00:05</td>\n      <td>Terrific interview by @mariaaazeee with @DowdE...</td>\n      <td>979707807111921664</td>\n      <td>1</td>\n      <td>1</td>\n      <td>7</td>\n      <td>0</td>\n      <td>English</td>\n      <td>Twitter for iPhone</td>\n      <td>https://zeeemedia.com/interview/edward-dowd-fo...</td>\n      <td>False</td>\n      <td>None</td>\n      <td>None</td>\n      <td>None</td>\n      <td>[1432287790541144066, 1570180292]</td>\n      <td>None</td>\n      <td>[vaccineinjuries, HoldtheLine, PfizerFraud, Va...</td>\n    </tr>\n    <tr>\n      <th>1495150560504430600</th>\n      <td>2022-02-19 21:37:26</td>\n      <td>#TruckersForFreedom2022  #VaccinesKill https:/...</td>\n      <td>331786486</td>\n      <td>0</td>\n      <td>0</td>\n      <td>0</td>\n      <td>0</td>\n      <td>Unknown</td>\n      <td>Twitter Web App</td>\n      <td>https://twitter.com/teakalmia/status/149514975...</td>\n      <td>False</td>\n      <td>1495149758012395533</td>\n      <td>None</td>\n      <td>None</td>\n      <td>None</td>\n      <td>None</td>\n      <td>[TruckersForFreedom2022, VaccinesKill]</td>\n    </tr>\n    <tr>\n      <th>...</th>\n      <td>...</td>\n      <td>...</td>\n      <td>...</td>\n      <td>...</td>\n      <td>...</td>\n      <td>...</td>\n      <td>...</td>\n      <td>...</td>\n      <td>...</td>\n      <td>...</td>\n      <td>...</td>\n      <td>...</td>\n      <td>...</td>\n      <td>...</td>\n      <td>...</td>\n      <td>...</td>\n      <td>...</td>\n    </tr>\n    <tr>\n      <th>1447955338460745733</th>\n      <td>2021-10-12 16:00:29</td>\n      <td>VAIDS = Vaccine Acquired Immune Deficiency Syn...</td>\n      <td>1387196275402018817</td>\n      <td>0</td>\n      <td>1</td>\n      <td>3</td>\n      <td>0</td>\n      <td>English</td>\n      <td>Twitter Web App</td>\n      <td>None</td>\n      <td>False</td>\n      <td>None</td>\n      <td>None</td>\n      <td>None</td>\n      <td>None</td>\n      <td>None</td>\n      <td>[VAIDS]</td>\n    </tr>\n    <tr>\n      <th>1378822981112229889</th>\n      <td>2021-04-04 21:33:10</td>\n      <td>Maybe a new illness will be created? VAIDS!  V...</td>\n      <td>462464578</td>\n      <td>0</td>\n      <td>0</td>\n      <td>0</td>\n      <td>0</td>\n      <td>English</td>\n      <td>Twitter Web App</td>\n      <td>None</td>\n      <td>False</td>\n      <td>None</td>\n      <td>None</td>\n      <td>None</td>\n      <td>None</td>\n      <td>None</td>\n      <td>[VAIDS]</td>\n    </tr>\n    <tr>\n      <th>1332767287154241542</th>\n      <td>2020-11-28 19:24:17</td>\n      <td>@richy_os @Johannxs @HMKemiAdeosun The selfish...</td>\n      <td>2944593299</td>\n      <td>1</td>\n      <td>0</td>\n      <td>3</td>\n      <td>0</td>\n      <td>English</td>\n      <td>Twitter for Android</td>\n      <td>None</td>\n      <td>False</td>\n      <td>None</td>\n      <td>1332699553087229952</td>\n      <td>700732560</td>\n      <td>[700732560, 78625783, 847719571129720832]</td>\n      <td>None</td>\n      <td>[VAIDS]</td>\n    </tr>\n    <tr>\n      <th>1332035503072419843</th>\n      <td>2020-11-26 18:56:26</td>\n      <td>What if India's Drug regulator, @CDSCO_INDIA_I...</td>\n      <td>326142866</td>\n      <td>1</td>\n      <td>0</td>\n      <td>1</td>\n      <td>1</td>\n      <td>English</td>\n      <td>Twitter Web App</td>\n      <td>https://twitter.com/das_seed/status/1327319807...</td>\n      <td>False</td>\n      <td>1327319807516172296</td>\n      <td>None</td>\n      <td>None</td>\n      <td>[818519312684224513, 2650295678, 2596143056]</td>\n      <td>None</td>\n      <td>[Vaids]</td>\n    </tr>\n    <tr>\n      <th>1294757678598815744</th>\n      <td>2020-08-15 22:07:40</td>\n      <td>@yinkanubi This tweet is loaded with a lot of ...</td>\n      <td>2944593299</td>\n      <td>0</td>\n      <td>0</td>\n      <td>1</td>\n      <td>0</td>\n      <td>English</td>\n      <td>Twitter for Android</td>\n      <td>None</td>\n      <td>False</td>\n      <td>None</td>\n      <td>1294558115896205312</td>\n      <td>47572601</td>\n      <td>[47572601]</td>\n      <td>None</td>\n      <td>[VAIDS]</td>\n    </tr>\n  </tbody>\n</table>\n<p>17615 rows × 17 columns</p>\n</div>"
     },
     "execution_count": 14,
     "metadata": {},
     "output_type": "execute_result"
    }
   ],
   "source": [
    "# Column 'retweetedTweet' is useless --> drop it\n",
    "tweets = tweets.drop(columns='retweetedTweet')\n",
    "\n",
    "# Fix column 'media'\n",
    "replacement = []\n",
    "\n",
    "for entry in tweets['media']:\n",
    "    containsMedia = False\n",
    "    if entry is not None:\n",
    "        containsMedia = True\n",
    "    replacement.append(containsMedia)\n",
    "\n",
    "tweets['media'] = replacement\n",
    "tweets = tweets.rename(columns={'media': 'containsMedia'})\n",
    "\n",
    "# Fix column 'quotedTweet'\n",
    "replacement = []\n",
    "for entry in tweets['quotedTweet']:\n",
    "    quoteTweetID = 'None'\n",
    "    if entry is not None:\n",
    "        quoteTweetID = str(entry['id'])\n",
    "    replacement.append(quoteTweetID)\n",
    "\n",
    "tweets['quotedTweet'] = replacement\n",
    "tweets = tweets.rename(columns={'quotedTweet': 'quoteTweetId'})\n",
    "\n",
    "# Fix column 'inReplyToTweetId'\n",
    "tweets['inReplyToTweetId'] = tweets['inReplyToTweetId'].fillna(0)\n",
    "tweets['inReplyToTweetId'] = tweets['inReplyToTweetId'].map(int).map(str)\n",
    "tweets['inReplyToTweetId'] = tweets['inReplyToTweetId'].replace({'0': 'None'})\n",
    "\n",
    "# Fix column 'inReplyToUser'\n",
    "replacement = []\n",
    "\n",
    "for entry in tweets['inReplyToUser']:\n",
    "    replyUserId = 'None'\n",
    "    if entry is not None:\n",
    "        replyUserId = str(entry['id'])\n",
    "    replacement.append(replyUserId)\n",
    "\n",
    "tweets['inReplyToUser'] = replacement\n",
    "tweets = tweets.rename(columns={'inReplyToUser': 'inReplyToUserId'})\n",
    "\n",
    "# Fix column 'place'\n",
    "replacement = []\n",
    "\n",
    "for entry in tweets['place']:\n",
    "    country = 'None'\n",
    "    if entry is not None:\n",
    "        country = entry['country']\n",
    "    replacement.append(country)\n",
    "\n",
    "tweets['place'] = replacement\n",
    "tweets = tweets.rename(columns={'place': 'country'})\n",
    "\n",
    "# Fix column 'mentionedUsers'\n",
    "replacement = []\n",
    "\n",
    "for entry in tweets['mentionedUsers']:\n",
    "    mentionedUserIds = 'None'\n",
    "    if entry is not None:\n",
    "        mentionedUserIds = []\n",
    "        for mentionedUser in entry:\n",
    "            mentionedUserId = str(mentionedUser['id'])\n",
    "            mentionedUserIds.append(mentionedUserId)\n",
    "    replacement.append(mentionedUserIds)\n",
    "\n",
    "tweets['mentionedUsers'] = replacement\n",
    "tweets = tweets.rename(columns={'mentionedUsers': 'mentionedUserIds'})\n",
    "\n",
    "tweets"
   ],
   "metadata": {
    "collapsed": false,
    "pycharm": {
     "name": "#%%\n"
    }
   }
  },
  {
   "cell_type": "markdown",
   "source": [
    "### 2. Q1: Can we detect any interesting patterns in Tweets contained in our dataset ?\n"
   ],
   "metadata": {
    "collapsed": false,
    "pycharm": {
     "name": "#%% md\n"
    }
   }
  },
  {
   "cell_type": "markdown",
   "source": [
    "In order to answer our very first research question, we have conducted explatory data analysis on our dataset.\n",
    "We first began by analzying the content of the tweets to see the most frequently used terms and expressions within the tweets related to anti-vaccination discourse. Since our dataset contains tweets in various languages, it is useful for us to see how diverse and balanced our dataset is in terms of the language."
   ],
   "metadata": {
    "collapsed": false,
    "pycharm": {
     "name": "#%% md\n"
    }
   }
  },
  {
   "cell_type": "code",
   "execution_count": 15,
   "outputs": [
    {
     "data": {
      "text/plain": "<Figure size 720x720 with 1 Axes>",
      "image/png": "[encoded data removed]"
     },
     "metadata": {
      "needs_background": "light"
     },
     "output_type": "display_data"
    }
   ],
   "source": [
    "# create a countplot demonstrating the count of each language class that appears in our dataset\n",
    "plt.figure(figsize = (10,10))\n",
    "sns.countplot(x=\"lang\", data=tweets)\n",
    "plt.xticks(rotation=90)\n",
    "plt.title(\"Number of tweets written in different languages\")\n",
    "plt.show()"
   ],
   "metadata": {
    "collapsed": false,
    "pycharm": {
     "name": "#%%\n"
    }
   }
  },
  {
   "cell_type": "markdown",
   "source": [
    "As we can see from the count plot for languages of the tweets, most of the tweets in the dataset are in English as expected. Therefore, it would be sensible to analyze only the tweets in English as there are not enough number of instances that belong to other language classes.\n",
    "\n",
    "We extracted and visualized the frequent and impactful terms that appear in the actual content of the tweets by using word clouds which is a collection of words depicted in different sizes depending on their frequency within the text. It makes it easier for us to observe and detect the most important terms which are used in the tweets."
   ],
   "metadata": {
    "collapsed": false,
    "pycharm": {
     "name": "#%% md\n"
    }
   }
  },
  {
   "cell_type": "code",
   "execution_count": 16,
   "outputs": [],
   "source": [
    "## observe the words used in tweets, apart from the hashtags\n",
    "\n",
    "from wordcloud import WordCloud, STOPWORDS, ImageColorGenerator\n",
    "import re\n",
    "\n",
    "def create_wordCloud(dataframe):\n",
    "\n",
    "    ''' creates a wordcloud from a given pandas dataframe containing tweets\n",
    "        return the generated wordcloud of type Image. '''\n",
    "    stopwords = set(STOPWORDS)\n",
    "    comment_words = ''\n",
    "    dataframe = dataframe.reset_index()\n",
    "\n",
    "\n",
    "    for i in range (1,len(dataframe['content'])) :\n",
    "        #remove links from tweets\n",
    "        dataframe['content'][i]= re.sub(r'http\\S+', ' ', dataframe['content'][i], flags=re.MULTILINE)\n",
    "        dataframe['content'][i]= re.sub(r'#\\S+', ' ', dataframe['content'][i], flags=re.MULTILINE)\n",
    "\n",
    "    ## create a visualization of the words used in the tweets\n",
    "    for tweet in dataframe['content'] :\n",
    "\n",
    "        tweet = str(tweet)\n",
    "        tokens = tweet.split()\n",
    "\n",
    "        for i in range(len(tokens)) :\n",
    "            tokens[i] = tokens[i].lower()\n",
    "            comment_words += \" \".join(tokens) + \" \"\n",
    "\n",
    "    wordcloud = WordCloud(width = 800, height = 800, background_color = 'white',\n",
    "                          stopwords = stopwords).generate(comment_words)\n",
    "\n",
    "\n",
    "    return wordcloud"
   ],
   "metadata": {
    "collapsed": false,
    "pycharm": {
     "name": "#%%\n"
    }
   }
  },
  {
   "cell_type": "code",
   "execution_count": 17,
   "outputs": [
    {
     "ename": "KeyboardInterrupt",
     "evalue": "",
     "output_type": "error",
     "traceback": [
      "\u001B[1;31m---------------------------------------------------------------------------\u001B[0m",
      "\u001B[1;31mKeyboardInterrupt\u001B[0m                         Traceback (most recent call last)",
      "\u001B[1;32m~\\AppData\\Local\\Temp/ipykernel_4152/1958159349.py\u001B[0m in \u001B[0;36m<module>\u001B[1;34m\u001B[0m\n\u001B[0;32m      3\u001B[0m \u001B[1;33m\u001B[0m\u001B[0m\n\u001B[0;32m      4\u001B[0m \u001B[0meng_tweets\u001B[0m \u001B[1;33m=\u001B[0m \u001B[0mtweets\u001B[0m\u001B[1;33m.\u001B[0m\u001B[0mloc\u001B[0m\u001B[1;33m[\u001B[0m\u001B[0mtweets\u001B[0m\u001B[1;33m[\u001B[0m\u001B[1;34m'lang'\u001B[0m\u001B[1;33m]\u001B[0m \u001B[1;33m==\u001B[0m \u001B[1;34m'English'\u001B[0m\u001B[1;33m]\u001B[0m\u001B[1;33m\u001B[0m\u001B[1;33m\u001B[0m\u001B[0m\n\u001B[1;32m----> 5\u001B[1;33m \u001B[0mwordcloud\u001B[0m \u001B[1;33m=\u001B[0m \u001B[0mcreate_wordCloud\u001B[0m\u001B[1;33m(\u001B[0m\u001B[0meng_tweets\u001B[0m\u001B[1;33m)\u001B[0m\u001B[1;33m\u001B[0m\u001B[1;33m\u001B[0m\u001B[0m\n\u001B[0m\u001B[0;32m      6\u001B[0m \u001B[1;33m\u001B[0m\u001B[0m\n\u001B[0;32m      7\u001B[0m \u001B[0mplt\u001B[0m\u001B[1;33m.\u001B[0m\u001B[0mfigure\u001B[0m\u001B[1;33m(\u001B[0m\u001B[0mfigsize\u001B[0m \u001B[1;33m=\u001B[0m \u001B[1;33m(\u001B[0m\u001B[1;36m8\u001B[0m\u001B[1;33m,\u001B[0m\u001B[1;36m8\u001B[0m\u001B[1;33m)\u001B[0m\u001B[1;33m,\u001B[0m \u001B[0mfacecolor\u001B[0m \u001B[1;33m=\u001B[0m \u001B[1;32mNone\u001B[0m\u001B[1;33m)\u001B[0m\u001B[1;33m\u001B[0m\u001B[1;33m\u001B[0m\u001B[0m\n",
      "\u001B[1;32m~\\AppData\\Local\\Temp/ipykernel_4152/2895845408.py\u001B[0m in \u001B[0;36mcreate_wordCloud\u001B[1;34m(dataframe)\u001B[0m\n\u001B[0;32m     26\u001B[0m         \u001B[1;32mfor\u001B[0m \u001B[0mi\u001B[0m \u001B[1;32min\u001B[0m \u001B[0mrange\u001B[0m\u001B[1;33m(\u001B[0m\u001B[0mlen\u001B[0m\u001B[1;33m(\u001B[0m\u001B[0mtokens\u001B[0m\u001B[1;33m)\u001B[0m\u001B[1;33m)\u001B[0m \u001B[1;33m:\u001B[0m\u001B[1;33m\u001B[0m\u001B[1;33m\u001B[0m\u001B[0m\n\u001B[0;32m     27\u001B[0m             \u001B[0mtokens\u001B[0m\u001B[1;33m[\u001B[0m\u001B[0mi\u001B[0m\u001B[1;33m]\u001B[0m \u001B[1;33m=\u001B[0m \u001B[0mtokens\u001B[0m\u001B[1;33m[\u001B[0m\u001B[0mi\u001B[0m\u001B[1;33m]\u001B[0m\u001B[1;33m.\u001B[0m\u001B[0mlower\u001B[0m\u001B[1;33m(\u001B[0m\u001B[1;33m)\u001B[0m\u001B[1;33m\u001B[0m\u001B[1;33m\u001B[0m\u001B[0m\n\u001B[1;32m---> 28\u001B[1;33m             \u001B[0mcomment_words\u001B[0m \u001B[1;33m+=\u001B[0m \u001B[1;34m\" \"\u001B[0m\u001B[1;33m.\u001B[0m\u001B[0mjoin\u001B[0m\u001B[1;33m(\u001B[0m\u001B[0mtokens\u001B[0m\u001B[1;33m)\u001B[0m \u001B[1;33m+\u001B[0m \u001B[1;34m\" \"\u001B[0m\u001B[1;33m\u001B[0m\u001B[1;33m\u001B[0m\u001B[0m\n\u001B[0m\u001B[0;32m     29\u001B[0m \u001B[1;33m\u001B[0m\u001B[0m\n\u001B[0;32m     30\u001B[0m     wordcloud = WordCloud(width = 800, height = 800, background_color = 'white',\n",
      "\u001B[1;31mKeyboardInterrupt\u001B[0m: "
     ]
    }
   ],
   "source": [
    "import warnings\n",
    "warnings.filterwarnings('ignore')\n",
    "\n",
    "eng_tweets = tweets.loc[tweets['lang'] == 'English']\n",
    "wordcloud = create_wordCloud(eng_tweets)\n",
    "\n",
    "plt.figure(figsize = (8,8), facecolor = None)\n",
    "plt.imshow(wordcloud)\n",
    "plt.axis(\"off\")\n",
    "plt.title(\"wordcloud of the tweets in English\")\n",
    "plt.show()"
   ],
   "metadata": {
    "collapsed": false,
    "pycharm": {
     "name": "#%%\n"
    }
   }
  },
  {
   "cell_type": "code",
   "execution_count": null,
   "outputs": [],
   "source": [
    "import datetime\n",
    "oldest_tweet_date = min(tweets['date'])\n",
    "latest_tweet_date = max(tweets['date'])\n",
    "print('Oldest tweet date : ',oldest_tweet_date)\n",
    "print('Latest tweet date : ', latest_tweet_date)"
   ],
   "metadata": {
    "collapsed": false,
    "pycharm": {
     "name": "#%%\n"
    }
   }
  },
  {
   "cell_type": "markdown",
   "source": [
    "As seen in the plotted word cloud above, the most frequently appearing terms overall for all the tweets contained in the dataset are rather generic. Therefore, in order to gain more insight about the most frequently used terms, we divided our dataset into 5 groups,based on the date that each tweet was tweeted. The oldest tweet in our dataset was tweeted on 1 January 2020 and the latest one was tweeted on 2 February 2022. So we divided our tweets into the following parts : the first half of 2020,the second half of 2020, the first half of 2021, the second half of 2021 and lastly, the beginning of 2022."
   ],
   "metadata": {
    "collapsed": false,
    "pycharm": {
     "name": "#%% md\n"
    }
   }
  },
  {
   "cell_type": "code",
   "execution_count": null,
   "outputs": [],
   "source": [
    "## get the tweets between 2020-01-01 until 2020-07-01\n",
    "start_date = oldest_tweet_date\n",
    "end_date = datetime.datetime(2020, 7, 1,0,0)\n",
    "tweets_20_1 = eng_tweets.loc[(eng_tweets['date'] >= start_date) & (eng_tweets['date'] < end_date)]\n",
    "cloud_20_1 = create_wordCloud(tweets_20_1['content'])\n",
    "\n",
    "## get the tweets between 2020-07-01 until 2021-1-1\n",
    "start_date = datetime.datetime(2020, 7, 1,0,0)\n",
    "end_date = datetime.datetime(2021, 1,1,0,0)\n",
    "tweets_20_2 = eng_tweets.loc[(eng_tweets['date'] >= start_date) & (eng_tweets['date'] < end_date)]\n",
    "cloud_20_2 = create_wordCloud(tweets_20_2['content'])\n",
    "\n",
    "## get the tweets between 2021-01-01 until 2021-7-1\n",
    "start_date = datetime.datetime(2021, 1,1,0,0)\n",
    "end_date = datetime.datetime(2021, 7,1,0,0)\n",
    "tweets_21_1 = eng_tweets.loc[(eng_tweets['date'] >= start_date) & (eng_tweets['date'] < end_date)]\n",
    "cloud_21_1 = create_wordCloud(tweets_21_1['content'])\n",
    "\n",
    "## get the tweets between 2021-07-01 until 2022-1-1\n",
    "start_date = datetime.datetime(2021, 7,1,0,0)\n",
    "end_date = datetime.datetime(2022, 1,1,0,0)\n",
    "tweets_21_2 = eng_tweets.loc[(eng_tweets['date'] >= start_date) & (eng_tweets['date'] < end_date)]\n",
    "cloud_21_2 = create_wordCloud(tweets_21_2['content'])\n",
    "\n",
    "## get the tweets between 2022-01-01 until the latest date\n",
    "start_date = datetime.datetime(2022, 1,1,0,0)\n",
    "end_date = latest_tweet_date\n",
    "tweets_22_1 = eng_tweets.loc[(eng_tweets['date'] >= start_date) & (eng_tweets['date'] < end_date)]\n",
    "cloud_22_1 = create_wordCloud(tweets_22_1['content'])"
   ],
   "metadata": {
    "collapsed": false,
    "pycharm": {
     "name": "#%%\n"
    }
   }
  },
  {
   "cell_type": "code",
   "execution_count": null,
   "outputs": [],
   "source": [
    "# visualize the most frequent words in tweets\n",
    "fig = plt.figure(figsize = (15,15))\n",
    "fig.suptitle('Frequent tweets used in Different Time Frames ')\n",
    "ax1 = fig.add_subplot(3,3,1)\n",
    "ax1.title.set_text('Tweets from the 1st half of 2020')\n",
    "plt.imshow(cloud_20_1)\n",
    "\n",
    "ax2 = fig.add_subplot(3,3,2)\n",
    "ax2.title.set_text('Tweets from the 2nd half of 2020 ')\n",
    "plt.imshow(cloud_20_2)\n",
    "\n",
    "ax3 = fig.add_subplot(3,3,3)\n",
    "ax3.title.set_text('Tweets from the 1st half of 2021')\n",
    "plt.imshow(cloud_21_1)\n",
    "\n",
    "ax4 = fig.add_subplot(3,3,4)\n",
    "ax4.title.set_text('Tweets from the 2nd half of 2021')\n",
    "plt.imshow(cloud_21_2)\n",
    "\n",
    "ax5 = fig.add_subplot(3,3,5)\n",
    "ax5.title.set_text('Tweets from the beginning of 2022')\n",
    "plt.imshow(cloud_22_1)\n",
    "\n",
    "plt.show()"
   ],
   "metadata": {
    "collapsed": false,
    "pycharm": {
     "name": "#%%\n"
    }
   }
  },
  {
   "cell_type": "markdown",
   "source": [
    "As seen in the word clouds of frequently used words for each different time frame, splitting up the dates help us observe the content of the tweets in a more detailed way. The word clouds give us an idea of the evolution of the anti-vaccination discourse over time.\n",
    "\n",
    "If we have a closer look at the first of half of 2020, around the time when the covid vaccines started to being used, we see that a lot of tweets from that time frame contain the non-generic words, 'truth', 'believe' 'bill gates'. In the second half, the word 'celebrities' stands out as well as 'TV' and 'Youtube' although they're not very significant. This could be interpreted as, in the beginning, the tweets contained content that could be considered as 'conspiracy theories', whereas, in the second half of 2020, the discourse went into the direction of the impact of media and celebrities on the vaccination campaigns.\n",
    "\n",
    "In case of 2021, the time in which covid vaccines were commonly in use around the world, we observe that the words 'death', 'side effects', 'died taking', 'children' were the most appearing words. We can infer that, compared to 2020, people engaging in anti-vaccination discourse on Twitter were more concerned about the potential risks and the side effects of the vaccine especially for young individuals instead of the 'conspiracy theories' and the influence of media.\n",
    "\n",
    "Lastly, if we have a closer look to the tweets from the begging of 2022, we encounter an entirely different word cloud. It mostly contains the terms 'immune system', 'aids, 'hiv' and 'immune deficiency'."
   ],
   "metadata": {
    "collapsed": false,
    "pycharm": {
     "name": "#%% md\n"
    }
   }
  },
  {
   "cell_type": "markdown",
   "source": [
    "#### Trending hashtags\n"
   ],
   "metadata": {
    "collapsed": false,
    "pycharm": {
     "name": "#%% md\n"
    }
   }
  },
  {
   "cell_type": "markdown",
   "source": [
    "Hashtags on Twitter provide us an idea of on what topic the given tweets is mainly centered around. Therefore, to validate the interpretation that we have made based on the tweet content and the wordclouds, and to observe the anti-vaccination discourse on the platform more closely, we can delve deeper into the trending hashtags."
   ],
   "metadata": {
    "collapsed": false,
    "pycharm": {
     "name": "#%% md\n"
    }
   }
  },
  {
   "cell_type": "code",
   "execution_count": null,
   "outputs": [],
   "source": [
    "def get_top_hashtags(df,top = 50,drop_default = False):\n",
    "    '''given a tweet dataframe, return top  n hashtags based on their frequenc'''\n",
    "\n",
    "    df = df.explode('hashtags')\n",
    "    top_hashtags = df['hashtags'].value_counts()[:top]\n",
    "\n",
    "    if drop_default == True:\n",
    "        default_hashtags = ['stoptheshot', 'VAIDS', 'StopTheShot', 'nojab','Nojab', 'NOJAB', 'vaccineskill','VaccinesKill','VACCINESKILL', 'NoJab','vaids','Vaids','vaccines', 'Vaccines']\n",
    "        for hashtag in top_hashtags.index.tolist() :\n",
    "            for entry in default_hashtags :\n",
    "                if hashtag == entry:\n",
    "                    top_hashtags = top_hashtags.drop(entry)\n",
    "\n",
    "    return top_hashtags"
   ],
   "metadata": {
    "collapsed": false,
    "pycharm": {
     "name": "#%%\n"
    }
   }
  },
  {
   "cell_type": "code",
   "execution_count": null,
   "outputs": [],
   "source": [
    "top_hashtags = get_top_hashtags(tweets, drop_default = True)\n",
    "top_hashtags.plot(figsize = (10,10) ,kind = 'barh', title = 'The most frequently used hashtags overall')"
   ],
   "metadata": {
    "collapsed": false,
    "pycharm": {
     "name": "#%%\n"
    }
   }
  },
  {
   "cell_type": "markdown",
   "source": [
    "As seen in the count plot above, #covid19, #DoNotComply, #VaccineSideEffects, #vaccine and #HIV were the top five popular hashtags overall in the tweets contained in our sample. However, this does not provide us any insight on how the anti-vaccination discourse has evolved over time. Therefore, we get the divided tweets that we have used for observing the content of the tweets, and analyzed the most popular hashtags based on a certain time frame."
   ],
   "metadata": {
    "collapsed": false,
    "pycharm": {
     "name": "#%% md\n"
    }
   }
  },
  {
   "cell_type": "code",
   "execution_count": null,
   "outputs": [],
   "source": [
    "top_hashtags_20_1 = get_top_hashtags(tweets_20_1, top = 15, drop_default= True)\n",
    "top_hashtags_20_2 = get_top_hashtags(tweets_20_2, top = 12,drop_default= True)\n",
    "top_hashtags_21_1 = get_top_hashtags(tweets_21_1, top = 18, drop_default= True)\n",
    "top_hashtags_21_2 = get_top_hashtags(tweets_21_2, top = 17, drop_default= True)\n",
    "top_hashtags_22_1 = get_top_hashtags(tweets_22_1, top = 17,drop_default= True)"
   ],
   "metadata": {
    "collapsed": false,
    "pycharm": {
     "name": "#%%\n"
    }
   }
  },
  {
   "cell_type": "code",
   "execution_count": null,
   "outputs": [],
   "source": [
    "# visualize the most frequent words in tweets\n",
    "fig = plt.figure(figsize = (30,30))\n",
    "fig.suptitle('Top Hashtags Used in Different Time Frames ')\n",
    "ax1 = fig.add_subplot(3,3,1)\n",
    "ax1.title.set_text('the 1st half of 2020')\n",
    "top_hashtags_20_1.plot(figsize = (10,10) ,kind = 'barh')\n",
    "\n",
    "ax2 = fig.add_subplot(3,3,2)\n",
    "ax2.title.set_text('the 2nd half of 2020 ')\n",
    "ax2.set_yticklabels([])\n",
    "top_hashtags_20_2.plot(figsize = (10,10) ,kind = 'barh')\n",
    "\n",
    "ax3 = fig.add_subplot(3,3,3)\n",
    "ax3.title.set_text('the 1st half of 2021')\n",
    "top_hashtags_21_1.plot(figsize = (10,10) ,kind = 'barh')\n",
    "\n",
    "ax4 = fig.add_subplot(3,3,4)\n",
    "ax4.title.set_text(' 2nd half of 2021')\n",
    "top_hashtags_21_2.plot(figsize = (10,10) ,kind = 'barh')\n",
    "\n",
    "ax5 = fig.add_subplot(3,3,5)\n",
    "ax5.title.set_text('the beginning of 2022')\n",
    "top_hashtags_22_1.plot(figsize = (10,10) ,kind = 'barh')\n",
    "\n",
    "plt.subplots_adjust(left = 0.1,\n",
    "                    bottom = 0.1,\n",
    "                    right = 0.9 ,\n",
    "                    top = 0.9,\n",
    "                    wspace = 0.8,\n",
    "                    hspace = 0.4)\n",
    "\n",
    "plt.show()"
   ],
   "metadata": {
    "collapsed": false,
    "pycharm": {
     "name": "#%%\n"
    }
   }
  },
  {
   "cell_type": "markdown",
   "source": [
    "As seen in the figure above, the most frequently used hashtags (excluding the ones we have used to scrape the tweets) are in alignment with the most occuring words in the tweet contents. In the first and second half of 2020, we see that hashtags such as #LearnTheRisk and #BillGates #Plandemic and #Scamdemic were one of the top hashtags that were used, which gives us a supporting evidence that the vaccine discourse was mostly centered around the 'conspiracy theories', while in 2021, we see that as the vaccines have become more commonly used and the governments have brought new regulations for travelling, etc. based on vaccinations, hashtags such as #NoVaccinesPassports, #NoVaccineMandates were trending. Lastly, in the beginning of 2022, we can clearly observe that AIDS and HIV were started to be associated with vaccines in the context of anti-vaccination discourse."
   ],
   "metadata": {
    "collapsed": false,
    "pycharm": {
     "name": "#%% md\n"
    }
   }
  },
  {
   "cell_type": "code",
   "source": [
    "def groupby_hashtag(dataframe):\n",
    "    dataframe = dataframe.explode('hashtags')\n",
    "    dataframe = dataframe[['hashtags', 'replyCount','retweetCount', 'likeCount', 'quoteCount']]\n",
    "    dataframe = dataframe.groupby('hashtags').agg({'replyCount' : 'mean',\n",
    "                                                   'retweetCount' : 'mean',\n",
    "                                                   'likeCount' : 'mean',\n",
    "                                                   'quoteCount' : 'mean'})\n",
    "    return dataframe"
   ],
   "metadata": {
    "collapsed": false,
    "pycharm": {
     "name": "#%%\n"
    }
   },
   "execution_count": null,
   "outputs": []
  },
  {
   "cell_type": "code",
   "execution_count": null,
   "outputs": [],
   "source": [
    "tweets_hashtags = groupby_hashtag(tweets)"
   ],
   "metadata": {
    "collapsed": false,
    "pycharm": {
     "name": "#%%\n"
    }
   }
  },
  {
   "cell_type": "code",
   "execution_count": null,
   "outputs": [],
   "source": [
    "def get_average_interaction(grouped_df) :\n",
    "\n",
    "    grouped_df = grouped_df.loc[top_hashtags.index.tolist()]\n",
    "    grouped_df = grouped_df.reset_index()\n",
    "\n",
    "    grouped_df['average_interaction'] = grouped_df[['retweetCount', 'likeCount', 'quoteCount', 'replyCount']].sum(axis = 1)\n",
    "    grouped_df = grouped_df.sort_values(by = 'average_interaction', ascending = False)\n",
    "\n",
    "    return grouped_df"
   ],
   "metadata": {
    "collapsed": false,
    "pycharm": {
     "name": "#%%\n"
    }
   }
  },
  {
   "cell_type": "code",
   "execution_count": null,
   "outputs": [],
   "source": [
    "tweets_hashtags = get_average_interaction(tweets_hashtags)"
   ],
   "metadata": {
    "collapsed": false,
    "pycharm": {
     "name": "#%%\n"
    }
   }
  },
  {
   "cell_type": "code",
   "execution_count": null,
   "outputs": [],
   "source": [
    "plt.figure(figsize = (15,15))\n",
    "sns.catplot(x=\"hashtags\", y=\"average_interaction\", kind=\"bar\", data= tweets_hashtags[:15])\n",
    "plt.xticks(rotation=90)\n",
    "plt.title(\"Top 15 additional hashtags and their average interaction\")\n",
    "plt.show()"
   ],
   "metadata": {
    "collapsed": false,
    "pycharm": {
     "name": "#%%\n"
    }
   }
  },
  {
   "cell_type": "markdown",
   "source": [
    "### 4. Q3: Based on the Tweets, how did this movement evolve over time and across geographical locations?\n",
    "\n",
    "#### 4.1 Time analysis\n",
    "##### 4.1.1 Overall breakdown\n",
    "Let us find out how the Vaccine Disinformation phenomenon has developed over time by taking a look at the amount of Tweets that were posted during each week."
   ],
   "metadata": {
    "collapsed": false,
    "pycharm": {
     "name": "#%% md\n"
    }
   }
  },
  {
   "cell_type": "code",
   "source": [
    "plt.rcParams['figure.figsize'] = (16,8)\n",
    "plt.rcParams['figure.dpi'] = 150\n",
    "\n",
    "def update(element, dictionary):\n",
    "    if element in dictionary:\n",
    "        dictionary[element] += 1\n",
    "    else:\n",
    "        dictionary[element] = 1\n",
    "\n",
    "tweets = tweets.sort_values(by=['date'])\n",
    "tweets['week/year'] = tweets['date'].apply(lambda x: \"%d/%d\" % (x.week, x.year))\n",
    "tweets['date'] = tweets['date'].dt.date\n",
    "print(f\"{min(tweets['date'])} - {max(tweets['date'])}\")\n",
    "\n",
    "counts = {}\n",
    "tweets['week/year'].apply(update, dictionary=counts)\n",
    "pd.DataFrame.from_dict(data=counts, orient='index', columns=['count']).plot.line()"
   ],
   "metadata": {
    "collapsed": false,
    "pycharm": {
     "name": "#%%\n"
    }
   },
   "execution_count": null,
   "outputs": []
  },
  {
   "cell_type": "markdown",
   "source": [
    "In the period 1/2020 through 25/2021 there does not seem to be much activity. However, after 25/2021, activity significantly increases, with a very high peak towards the very end. We will later see that this is because majority of the collected Tweets stem from hashtags that were commonly used towards the latter half of 2021."
   ],
   "metadata": {
    "collapsed": false,
    "pycharm": {
     "name": "#%% md\n"
    }
   }
  },
  {
   "cell_type": "markdown",
   "source": [
    "##### 4.1.2 Per-hashtag breakdown\n",
    "Let us breakdown the plot above per hashtag to see how each hashtag developed over time."
   ],
   "metadata": {
    "collapsed": false,
    "pycharm": {
     "name": "#%% md\n"
    }
   }
  },
  {
   "cell_type": "code",
   "execution_count": null,
   "outputs": [],
   "source": [
    "def update(element, dictionary):\n",
    "    dictionary[element] += 1\n",
    "\n",
    "def inside(my_list, key):\n",
    "    if my_list is not None:\n",
    "        for element in my_list:\n",
    "            if element.lower() == key:\n",
    "                return True\n",
    "    return False\n",
    "\n",
    "def breakdown(hashtag_name):\n",
    "    hashtag_tweets = tweets[tweets[\"hashtags\"].apply(inside, key=hashtag_name)]\n",
    "    print(f\"{min(hashtag_tweets['date'])} - {max(hashtag_tweets['date'])} #{hashtag_name}\")\n",
    "    for key in counts.keys():\n",
    "        counts[key] = 0\n",
    "    hashtag_tweets['week/year'].apply(update, dictionary=counts)\n",
    "    combined_counts[hashtag_name] = pd.DataFrame.from_dict(data=counts, orient='index', columns=[hashtag_name])\n",
    "    combined_counts[hashtag_name].plot.line()\n",
    "\n",
    "combined_counts = pd.DataFrame()\n",
    "combined_counts.set_index = counts.keys()\n",
    "breakdown('vaccineskill')"
   ],
   "metadata": {
    "collapsed": false,
    "pycharm": {
     "name": "#%%\n"
    }
   }
  },
  {
   "cell_type": "markdown",
   "source": [
    "As becomes apparent from the data, \\#vaccineskill is a hashtag that has been in use for the entirety of the COVID-19 pandemic. It was even in use before the COVID-19 pandemic started in early 2020, suggesting that it has been used to target vaccination campaigns in general, rather than the COVID-19 vaccination campaign in specific. Halfway through 2021 a very high peak occurs. We hypothesize this is due to the following: citizens from the USA make up a large portion of the Twitter userbase (per https://www.statista.com/statistics/242606/number-of-active-twitter-users-in-selected-countries/). Halfway through 2021 is when the USA started their booster campaign, causing outrage among anti-vax supporters."
   ],
   "metadata": {
    "collapsed": false,
    "pycharm": {
     "name": "#%% md\n"
    }
   }
  },
  {
   "cell_type": "code",
   "execution_count": null,
   "outputs": [],
   "source": [
    "breakdown('vaccinesharm')"
   ],
   "metadata": {
    "collapsed": false,
    "pycharm": {
     "name": "#%%\n"
    }
   }
  },
  {
   "cell_type": "markdown",
   "source": [
    "Unfortunately, data on \\#vaccinesharm is sparse. However, its plot is distinct from those of the other hashtags in the following way: rather than its activity increasing throughout the COVID-19 pandemic, it actually decreased."
   ],
   "metadata": {
    "collapsed": false,
    "pycharm": {
     "name": "#%% md\n"
    }
   }
  },
  {
   "cell_type": "code",
   "execution_count": null,
   "outputs": [],
   "source": [
    "breakdown('nojab')"
   ],
   "metadata": {
    "collapsed": false,
    "pycharm": {
     "name": "#%%\n"
    }
   }
  },
  {
   "cell_type": "markdown",
   "source": [
    "\\#nojab is a hashtag that was barely used throughout 2020. It did not start receiving traction until the first half of 2021, with a significant increase in the second half. We hypothesize this increase occurred for the same reason as the increase in \\#vaccineskill's activity."
   ],
   "metadata": {
    "collapsed": false,
    "pycharm": {
     "name": "#%% md\n"
    }
   }
  },
  {
   "cell_type": "code",
   "execution_count": null,
   "outputs": [],
   "source": [
    "breakdown('stoptheshot')"
   ],
   "metadata": {
    "collapsed": false,
    "pycharm": {
     "name": "#%%\n"
    }
   }
  },
  {
   "cell_type": "markdown",
   "source": [
    "\\#stoptheshot was non-existent from 1/2020 through 25/2021. Similar to \\#vaccineskill and \\#nojab, it sees a significant peak around the time the USA started their COVID-19 booster vaccination campaign."
   ],
   "metadata": {
    "collapsed": false,
    "pycharm": {
     "name": "#%% md\n"
    }
   }
  },
  {
   "cell_type": "code",
   "execution_count": null,
   "outputs": [],
   "source": [
    "breakdown('vaids')"
   ],
   "metadata": {
    "collapsed": false,
    "pycharm": {
     "name": "#%%\n"
    }
   }
  },
  {
   "cell_type": "markdown",
   "source": [
    "The plot shows that \\#vaids is a rather recent phenomenon. Being non-existent for the entirety of 2020 and almost the entirety of 2021, it has only recently sprung into life.\n",
    "\n",
    "To compare all hashtags better all plots have been combined into one below:"
   ],
   "metadata": {
    "collapsed": false,
    "pycharm": {
     "name": "#%% md\n"
    }
   }
  },
  {
   "cell_type": "code",
   "execution_count": null,
   "outputs": [],
   "source": [
    "combined_counts.plot.line()"
   ],
   "metadata": {
    "collapsed": false,
    "pycharm": {
     "name": "#%%\n"
    }
   }
  },
  {
   "cell_type": "markdown",
   "source": [
    "The more recent #stoptheshot and #vaids hashtags dominate the dataset in terms of occurrences. This explains the increase in activity towards the latter half of 2021 in the overall breakdown of the dataset. #vaccineskill, #nojab and #stoptheshot all see their peak around the middle of 2021. As hypothesized before, this is likely due to a large portion of Twitter's userbase being located in the USA and the USA starting their COVID-19 booster vaccination campaign in August of 2021. #vaids is a rather new hashtag with a very high peak towards to end of the data's timeline."
   ],
   "metadata": {
    "collapsed": false,
    "pycharm": {
     "name": "#%% md\n"
    }
   }
  },
  {
   "cell_type": "markdown",
   "source": [
    "#### 4.2 Location analysis\n",
    "Two features from the dataset inform us about a location:\n",
    "\\- tweets['country'] tells us the country from which a Tweet was posted.\n",
    "\\- users['location'] tells us a Twitter user's location.\n",
    "\n",
    "Unfortunately, users['location'] can be set to anything that is not a location by the user itself. This makes it unsuitable for analysis."
   ],
   "metadata": {
    "collapsed": false,
    "pycharm": {
     "name": "#%% md\n"
    }
   }
  },
  {
   "cell_type": "code",
   "source": [
    "percentage = tweets[tweets['country'] != 'None'].shape[0]/tweets.shape[0]*100\n",
    "percentage"
   ],
   "metadata": {
    "collapsed": false,
    "pycharm": {
     "name": "#%%\n"
    }
   },
   "execution_count": null,
   "outputs": []
  },
  {
   "cell_type": "markdown",
   "source": [
    "As only 0.69% of Tweets contains a valid entry in the column 'country', the team did not find this feature worth exploring either."
   ],
   "metadata": {
    "collapsed": false,
    "pycharm": {
     "name": "#%% md\n"
    }
   }
  },
  {
   "cell_type": "markdown",
   "source": [
    "### 5. Ethical analysis\n",
    "The data has been collected using the Python package 'snscrape'. 'snscrape' uses emulation to gather information on Tweets (per https://github.com/JustAnotherArchivist/snscrape/issues/69). This means that the data that has been collected only contains information that is readily available to the public.\n",
    "\n",
    "\n",
    "Due to the nature of the subject and its impact on society, it is difficult to remain unbiased when drawing conclusions from the conducted analysis.\n",
    "\n",
    "\n",
    "With the current data, there is no distinction between anti-vax and pro-vax Tweets. It it assumed all Tweets are anti-vax.\n",
    "\n",
    "This analysis provides insight into the Twitter behaviour of anti-vax people and can be of use to creators of vaccination campaigns. Its findings may prove offensive to the anti-vax."
   ],
   "metadata": {
    "collapsed": false,
    "pycharm": {
     "name": "#%% md\n"
    }
   }
  }
 ],
 "metadata": {
  "kernelspec": {
   "display_name": "Python 3 (ipykernel)",
   "language": "python",
   "name": "python3"
  },
  "language_info": {
   "codemirror_mode": {
    "name": "ipython",
    "version": 3
   },
   "file_extension": ".py",
   "mimetype": "text/x-python",
   "name": "python",
   "nbconvert_exporter": "python",
   "pygments_lexer": "ipython3",
   "version": "3.9.7"
  }
 },
 "nbformat": 4,
 "nbformat_minor": 5
}